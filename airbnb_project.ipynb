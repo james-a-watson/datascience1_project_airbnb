{
 "cells": [
  {
   "cell_type": "markdown",
   "metadata": {},
   "source": [
    "# Data Analysis Project\n",
    "\n",
    "\n",
    "# _An Analysis of AirBnB Listings in London_"
   ]
  },
  {
   "cell_type": "markdown",
   "metadata": {},
   "source": [
    "### _Contents_\n",
    "\n",
    "- [Project Plan](#section-1)\n",
    "    - [The Data](#section-1-1)\n",
    "        - [Data Source](#section-1-1-1)\n",
    "        - [Data Content](#section-1-1-2)\n",
    "        - [Data Quality](#section-1-1-3)\n",
    "    - [Project Aims and Objectives](#section-1-2)\n",
    "        - [Objective 1: Predictors of Price and Review Score](#section-1-2-1)\n",
    "        - [Objective 2: Mapping the Distributions of Listings](#section-1-2-2)\n",
    "        - [Objective 3: The Language of Short-Term Rentals](#section-1-2-3)\n",
    "    - [System Design](#section-1-3)\n",
    "        - [Architecture](#section-1-3-1)\n",
    "        - [Processing Modules and Algorithms](#section-1-3-2)\n",
    "* [Program Code](#section-2)\n",
    "    - [Importing Packages](#section-2-1)\n",
    "    - [Data Engineering](#section-2-2)\n",
    "        - [Raw Data Extraction](#section-2-2-1)\n",
    "        - [Fixing Boolean Columns](#section-2-2-2)\n",
    "        - [Fixing Cost Columns](#section-2-2-3)\n",
    "    - [Data Enhancement](#section-2-3)\n",
    "        - [Feature Selection](#section-2-3-1)\n",
    "        - [Distance From Centre](#section-2-3-2)\n",
    "        - [Price Per Bedroom](#section-2-3-3)\n",
    "        - [Amenities Count](#section-2-3-4)\n",
    "        - [Room Type To Entire Property](#section-2-3-5)\n",
    "    - [Data Analysis](#section-2-4)\n",
    "        - [Numerical Outliers](#section-2-4-1)\n",
    "        - [Word Count Outliers](#section-2-4-2)\n",
    "        - [Borough Aggregation](#section-2-4-3)\n",
    "    - [Preparing Visualisations](#section-2-5)\n",
    "        - [Sorted Correlation Heatmaps (Objective 1)](#section-2-5-1)\n",
    "        - [Mapping with Style (Objective 2)](#section-2-5-2)\n",
    "        - [Concentric Circles (Objective 2)](#section-2-5-3)\n",
    "        - [Circle Map (Objective 2)](#section-2-5-4)\n",
    "        - [Generating Word Clouds (Objective 3)](#section-2-5-5)\n",
    "- [Project Outcome](#section-3)\n",
    "    - [Overview of Results](#section-3-1)\n",
    "    - [Objective 1: Predictors of Price and Review Score](#section-3-2)\n",
    "        - [Explanation](#section-3-2-1)\n",
    "        - [Visualisation](#section-3-2-2)\n",
    "    - [Objective 2: Mapping the Distributions of Listings](#section-3-3)\n",
    "        - [Explanation](#section-3-3-1)\n",
    "        - [Visualisation](#section-3-3-2)\n",
    "    - [Objective 3: The Language of Short-Term Rentals](#section-3-4)\n",
    "        - [Explanation](#section-3-4-1)\n",
    "        - [Visualisation](#section-3-4-2)\n",
    "* [Conclusion and Presentation](#section-4)\n",
    "    - [Achievements](#section-4-1)\n",
    "    - [Limitations](#section-4-2)\n",
    "    - [Future Work](#section-4-)"
   ]
  },
  {
   "cell_type": "markdown",
   "metadata": {},
   "source": [
    "# <u>Project Plan</u> <a class=\"anchor\" id=\"section-1\"></a>\n",
    "\n",
    "The popularity of AirBnB has transformed the landscape of short-term rentals, offering travelers accommodation and hosts an opportunity for supplementary income. This data science project delves into the dynamics of AirBnB listings in London.\n",
    "\n",
    "## The Data <a class=\"anchor\" id=\"section-1-1\"></a>\n",
    "\n",
    "### Data Source <a class=\"anchor\" id=\"section-1-1-1\"></a>\n",
    "\n",
    "To identify a suitable dataset for this project, I initially searched through the Kaggle.com data catalogue. There, I discovered that a user had uploaded London AirBnB listing data extracted from the web on November 6, 2023. While this was promising, the static nature of the data presented a potential challenge.\n",
    "\n",
    "Examining the source information provided by the user I discovered that the London listings data was being web-scraped by a site called ___Inside AirBnB___ on a monthly basis: http://insideairbnb.com/get-the-data.\n",
    "\n",
    "I've been actively working with the dataset obtained on September 6, 2023. However, my objective for this project is to ensure repeatability. So, one year from now, the code can be re-executed to assess the current state of the market and track its evolution.\n",
    "\n",
    "### Data Content <a class=\"anchor\" id=\"section-1-1-2\"></a>"
   ]
  },
  {
   "cell_type": "code",
   "execution_count": null,
   "metadata": {},
   "outputs": [],
   "source": []
  }
 ],
 "metadata": {
  "language_info": {
   "name": "python"
  },
  "orig_nbformat": 4
 },
 "nbformat": 4,
 "nbformat_minor": 2
}
