{
 "cells": [
  {
   "cell_type": "markdown",
   "metadata": {},
   "source": [
    "# Data Analysis Project\n",
    "\n",
    "\n",
    "# _An Analysis of AirBnB Listings in London_"
   ]
  },
  {
   "cell_type": "markdown",
   "metadata": {},
   "source": [
    "### _Contents_\n",
    "\n",
    "- [Project Plan](#section-1)\n",
    "    - [The Data](#section-1-1)\n",
    "        - [Data Source](#section-1-1-1)\n",
    "        - [Data Content](#section-1-1-2)\n",
    "        - [Data Quality](#section-1-1-3)\n",
    "    - [Project Aims and Objectives](#section-1-2)\n",
    "        - [Objective 1: Predictors of Price and Review Score](#section-1-2-1)\n",
    "        - [Objective 2: Mapping the Distributions of Listings](#section-1-2-2)\n",
    "        - [Objective 3: The Language of Short-Term Rentals](#section-1-2-3)\n",
    "    - [System Design](#section-1-3)\n",
    "        - [Architecture](#section-1-3-1)\n",
    "        - [Processing Modules and Algorithms](#section-1-3-2)\n",
    "* [Program Code](#section-2)\n",
    "    - [Importing Packages](#section-2-1)\n",
    "    - [Data Engineering](#section-2-2)\n",
    "        - [Raw Data Extraction](#section-2-2-1)\n",
    "        - [Fixing Boolean Columns](#section-2-2-2)\n",
    "        - [Fixing Cost Columns](#section-2-2-3)\n",
    "    - [Data Enhancement](#section-2-3)\n",
    "        - [Feature Selection](#section-2-3-1)\n",
    "        - [Distance From Centre](#section-2-3-2)\n",
    "        - [Price Per Bedroom](#section-2-3-3)\n",
    "        - [Amenities Count](#section-2-3-4)\n",
    "        - [Room Type To Entire Property](#section-2-3-5)\n",
    "    - [Data Analysis](#section-2-4)\n",
    "        - [Numerical Outliers](#section-2-4-1)\n",
    "        - [Word Count Outliers](#section-2-4-2)\n",
    "        - [Borough Aggregation](#section-2-4-3)\n",
    "    - [Preparing Visualisations](#section-2-5)\n",
    "        - [Sorted Correlation Heatmaps (Objective 1)](#section-2-5-1)\n",
    "        - [Mapping with Style (Objective 2)](#section-2-5-2)\n",
    "        - [Concentric Circles (Objective 2)](#section-2-5-3)\n",
    "        - [Circle Map (Objective 2)](#section-2-5-4)\n",
    "        - [Generating Word Clouds (Objective 3)](#section-2-5-5)"
   ]
  },
  {
   "cell_type": "code",
   "execution_count": null,
   "metadata": {},
   "outputs": [],
   "source": []
  }
 ],
 "metadata": {
  "language_info": {
   "name": "python"
  },
  "orig_nbformat": 4
 },
 "nbformat": 4,
 "nbformat_minor": 2
}
