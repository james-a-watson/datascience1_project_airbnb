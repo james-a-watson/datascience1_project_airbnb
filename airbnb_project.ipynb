{
 "cells": [
  {
   "cell_type": "markdown",
   "metadata": {},
   "source": [
    "# Data Analysis Project\n",
    "\n",
    "\n",
    "# _An Analysis of AirBnB Listings in London_"
   ]
  },
  {
   "cell_type": "markdown",
   "metadata": {},
   "source": [
    "### _Contents_\n",
    "\n",
    "- [Project Plan](#section-1)\n",
    "    - [The Data](#section-1-1)\n",
    "        - [Data Source](#section-1-1-1)\n",
    "        - [Data Content](#section-1-1-2)\n",
    "        - [Data Quality](#section-1-1-3)\n",
    "    - [Project Aims and Objectives](#section-1-2)\n",
    "        - [Objective 1: Predictors of Price and Review Score](#section-1-2-1)\n",
    "        - [Objective 2: Mapping the Distributions of Listings](#section-1-2-2)\n",
    "        - [Objective 3: The Language of Short-Term Rentals](#section-1-2-3)\n",
    "    - [System Design](#section-1-3)\n",
    "        - [Architecture](#section-1-3-1)\n",
    "        - [Processing Modules and Algorithms](#section-1-3-2)\n",
    "* [Program Code](#section-2)\n",
    "    - [Importing Packages](#section-2-1)\n",
    "    - [Data Engineering](#section-2-2)\n",
    "        - [Raw Data Extraction](#section-2-2-1)\n",
    "        - [Fixing Boolean Columns](#section-2-2-2)\n",
    "        - [Fixing Cost Columns](#section-2-2-3)\n",
    "    - [Data Enhancement](#section-2-3)\n",
    "        - [Feature Selection](#section-2-3-1)\n",
    "        - [Distance From Centre](#section-2-3-2)\n",
    "        - [Price Per Bedroom](#section-2-3-3)\n",
    "        - [Amenities Count](#section-2-3-4)\n",
    "        - [Room Type To Entire Property](#section-2-3-5)\n",
    "    - [Data Analysis](#section-2-4)\n",
    "        - [Numerical Outliers](#section-2-4-1)\n",
    "        - [Word Count Outliers](#section-2-4-2)\n",
    "        - [Borough Aggregation](#section-2-4-3)\n",
    "    - [Preparing Visualisations](#section-2-5)\n",
    "        - [Sorted Correlation Heatmaps (Objective 1)](#section-2-5-1)\n",
    "        - [Mapping with Style (Objective 2)](#section-2-5-2)\n",
    "        - [Concentric Circles (Objective 2)](#section-2-5-3)\n",
    "        - [Circle Map (Objective 2)](#section-2-5-4)\n",
    "        - [Generating Word Clouds (Objective 3)](#section-2-5-5)\n",
    "- [Project Outcome](#section-3)\n",
    "    - [Overview of Results](#section-3-1)\n",
    "    - [Objective 1: Predictors of Price and Review Score](#section-3-2)\n",
    "        - [Explanation](#section-3-2-1)\n",
    "        - [Visualisation](#section-3-2-2)\n",
    "    - [Objective 2: Mapping the Distributions of Listings](#section-3-3)\n",
    "        - [Explanation](#section-3-3-1)\n",
    "        - [Visualisation](#section-3-3-2)\n",
    "    - [Objective 3: The Language of Short-Term Rentals](#section-3-4)\n",
    "        - [Explanation](#section-3-4-1)\n",
    "        - [Visualisation](#section-3-4-2)\n",
    "* [Conclusion and Presentation](#section-4)\n",
    "    - [Achievements](#section-4-1)\n",
    "    - [Limitations](#section-4-2)\n",
    "    - [Future Work](#section-4-)"
   ]
  },
  {
   "cell_type": "markdown",
   "metadata": {},
   "source": [
    "# <u>Project Plan</u> <a class=\"anchor\" id=\"section-1\"></a>\n",
    "\n",
    "The popularity of AirBnB has transformed the landscape of short-term rentals, offering travelers accommodation and hosts an opportunity for supplementary income. This data science project delves into the dynamics of AirBnB listings in London.\n",
    "\n",
    "## The Data <a class=\"anchor\" id=\"section-1-1\"></a>\n",
    "\n",
    "### Data Source <a class=\"anchor\" id=\"section-1-1-1\"></a>\n",
    "\n",
    "To identify a suitable dataset for this project, I initially searched through the Kaggle.com data catalogue. There, I discovered that a user had uploaded London AirBnB listing data extracted from the web on November 6, 2023. While this was promising, the static nature of the data presented a potential challenge.\n",
    "\n",
    "Examining the source information provided by the user I discovered that the London listings data was being web-scraped by a site called ___Inside AirBnB___ on a monthly basis: http://insideairbnb.com/get-the-data.\n",
    "\n",
    "I've been actively working with the dataset obtained on September 6, 2023. However, my objective for this project is to ensure repeatability. So, one year from now, the code can be re-executed to assess the current state of the market and track its evolution.\n",
    "\n",
    "### Data Content <a class=\"anchor\" id=\"section-1-1-2\"></a>\n",
    "\n",
    "There are two datasets from ___Inside AirBnB___ that we are going to use:\n",
    "\n",
    "___Listings Data___\n",
    "\n",
    "URL: http://data.insideairbnb.com/united-kingdom/england/london/2023-09-06/data/listings.csv.gz\n",
    "\n",
    "This csv contains the all the London listings as at 2023-09-06. I've prepared a dictionary of all the columns and their data types in a code cell below. However, we will only be including a subset of those in our analysis.\n",
    "\n",
    "In the following table I highlight a few columns that will be the focus of the analysis:\n",
    "\n",
    "| Column Name | Type | Description |\n",
    "| --- | --- | --- |\n",
    "| price | string | The cost per night of the listing |\n",
    "| neighbourhood_cleansed | string | The London borough in which the listing sits |\n",
    "| latitude , longitude | float | The exact coordinates of the listing |\n",
    "| beds | integer |  The number of beds on the listing |\n",
    "| review_scores_rating | float | The overall rating score from the listing |\n",
    "| review_scores_* | float | 6 columns breaking down the overall rating |\n",
    "| description | string | The text entered by the host to describe and market the property |\n",
    "| amenities | string | Reading this in as a string but it's a list of amenities on a property |\n",
    "| calculated_host_listings_count | integer | Number of listings owned by the host. Calculated from this dataset |\n",
    "\n",
    "<br>\n",
    "\n",
    "___Neighbourhood geojson___\n",
    "\n",
    "URL: \"http://data.insideairbnb.com/united-kingdom/england/london/2023-09-06/visualisations/neighbourhoods.geojson\"\n",
    "\n",
    "This is a geojson file that contains the shapes of each of the 32 London boroughs.\n",
    "\n",
    "| Column Name | Type | Description |\n",
    "| --- | --- | --- |\n",
    "| neighbourhood | string | Name of the Borough |\n",
    "| neighbourhood_group | string | Always Null |\n",
    "| geometry | MultiPolygon | The boundary of the borough to be used to draw the outline. |\n",
    "\n",
    "<br>\n",
    "\n",
    "_See below the full list of columns and data types._"
   ]
  },
  {
   "cell_type": "code",
   "execution_count": 1,
   "metadata": {},
   "outputs": [],
   "source": [
    "column_data_types = {\n",
    "    \"id\": \"int64\",\n",
    "    \"listing_url\": \"string\",\n",
    "    \"scrape_id\": \"int64\",\n",
    "    \"last_scraped\": \"datetime\",\n",
    "    \"source\": \"string\",\n",
    "    \"name\": \"string\",\n",
    "    \"description\": \"string\",\n",
    "    \"neighborhood_overview\": \"string\",\n",
    "    \"picture_url\": \"string\",\n",
    "    \"host_id\": \"int64\",\n",
    "    \"host_url\": \"string\",\n",
    "    \"host_name\": \"string\",\n",
    "    \"host_since\": \"datetime\",\n",
    "    \"host_location\": \"string\",\n",
    "    \"host_about\": \"string\",\n",
    "    \"host_response_time\": \"category\",\n",
    "    \"host_response_rate\": \"string\",\n",
    "    \"host_acceptance_rate\": \"string\",\n",
    "    \"host_is_superhost\": \"string\",\n",
    "    \"host_thumbnail_url\": \"string\",\n",
    "    \"host_picture_url\": \"string\",\n",
    "    \"host_neighbourhood\": \"category\",\n",
    "    \"host_listings_count\": \"float64\",\n",
    "    \"host_total_listings_count\": \"float64\",\n",
    "    \"host_verifications\": \"string\",\n",
    "    \"host_has_profile_pic\": \"string\",\n",
    "    \"host_identity_verified\": \"string\",\n",
    "    \"neighbourhood\": \"category\",\n",
    "    \"neighbourhood_cleansed\": \"category\",\n",
    "    \"neighbourhood_group_cleansed\": \"category\",\n",
    "    \"latitude\": \"float64\",\n",
    "    \"longitude\": \"float64\",\n",
    "    \"property_type\": \"category\",\n",
    "    \"room_type\": \"category\",\n",
    "    \"accommodates\": \"int64\",\n",
    "    \"bathrooms\": \"float64\",\n",
    "    \"bathrooms_text\": \"string\",\n",
    "    \"bedrooms\": \"float64\",\n",
    "    \"beds\": \"float64\",\n",
    "    \"amenities\": \"string\",\n",
    "    \"price\": \"string\",\n",
    "    \"minimum_nights\": \"int64\",\n",
    "    \"maximum_nights\": \"int64\",\n",
    "    \"minimum_minimum_nights\": \"float64\",\n",
    "    \"maximum_minimum_nights\": \"float64\",\n",
    "    \"minimum_maximum_nights\": \"float64\",\n",
    "    \"maximum_maximum_nights\": \"float64\",\n",
    "    \"minimum_nights_avg_ntm\": \"float64\",\n",
    "    \"maximum_nights_avg_ntm\": \"float64\",\n",
    "    \"calendar_updated\": \"string\",\n",
    "    \"has_availability\": \"string\",\n",
    "    \"availability_30\": \"int64\",\n",
    "    \"availability_60\": \"int64\",\n",
    "    \"availability_90\": \"int64\",\n",
    "    \"availability_365\": \"int64\",\n",
    "    \"calendar_last_scraped\": \"datetime\",\n",
    "    \"number_of_reviews\": \"int64\",\n",
    "    \"number_of_reviews_ltm\": \"int64\",\n",
    "    \"number_of_reviews_l30d\": \"int64\",\n",
    "    \"first_review\": \"datetime\",\n",
    "    \"last_review\": \"datetime\",\n",
    "    \"review_scores_rating\": \"float64\",\n",
    "    \"review_scores_accuracy\": \"float64\",\n",
    "    \"review_scores_cleanliness\": \"float64\",\n",
    "    \"review_scores_checkin\": \"float64\",\n",
    "    \"review_scores_communication\": \"float64\",\n",
    "    \"review_scores_location\": \"float64\",\n",
    "    \"review_scores_value\": \"float64\",\n",
    "    \"license\": \"string\",\n",
    "    \"instant_bookable\": \"string\",\n",
    "    \"calculated_host_listings_count\": \"int64\",\n",
    "    \"calculated_host_listings_count_entire_homes\": \"int64\",\n",
    "    \"calculated_host_listings_count_private_rooms\": \"int64\",\n",
    "    \"calculated_host_listings_count_shared_rooms\": \"int64\",\n",
    "    \"reviews_per_month\": \"float64\"\n",
    "    }\n"
   ]
  },
  {
   "cell_type": "markdown",
   "metadata": {},
   "source": [
    "### Data Quality <a class=\"anchor\" id=\"section-1-1-3\"></a>\n",
    "\n",
    "The dataset is of particular interest for this type of project, as it exhibits both positive and negative aspects concerning its quality. In this project, I aim to harness the positive elements while mitigating the impact of the negatives:\n",
    "\n",
    "___Positives___\n",
    "\n",
    "- This data is highly comprehensive, well-populated and accurate. In fact, it appears to scrape all available information that can be discovered about a listing when exploring the Airbnb website.\n",
    "\n",
    "- The source website routinely scrapes the data. If you set up a pipeline to monitor this, you could expand your dataset or keep it updated with each scrape.\n",
    "\n",
    "- Investigating records within the dataset is easy as a url is provided for each listing. This also increases confidence in the data's reliability, as it's easy to verify correctness on an individual, record-by-record basis.\n",
    "\n",
    "- The dataset encompasses various types of data to explore, including unstructured text entries, location information, numerical values, and categorical data.\n",
    "\n",
    "- Many fields, such as host response rate and review scores, are calculated by Airbnb, ensuring their reliability.\n",
    "\n",
    "\n",
    "___Negatives___\n",
    "\n",
    "- While the columns I'm interested in are well-populated, some columns in the dataset exhibit high null rates.\n",
    "\n",
    "- Portions of the dataset rely on user input, which can introduce issues related to data entry errors and outliers.\n",
    "\n",
    "- Some intriguing property details, like square footage, have been omitted from the dataset.\n",
    "\n",
    "- The dataset contains redundancies, including numerous columns that won't be used in the analysis. I'll be removing these to reduce noise in the analysis."
   ]
  },
  {
   "cell_type": "markdown",
   "metadata": {},
   "source": [
    "## Project Aim and Objectives <a class=\"anchor\" id=\"section-1-2\"></a>\n",
    "\n",
    "This project seeks to offer a comprehensive analysis of Airbnb listings, providing a holistic view of the short-term rental market in London. My goal is to equip both hosts and travellers with valuable insights, enabling them to make informed decisions in this dynamic marketplace.\n",
    "\n",
    "The focus will be on two dimensions: Price and Review score. I will start with a general numerical analysis of factors influencing these dimensions and then dive deeper into the geographical and linguistic factors, using vivid and interesting visualisations to bring the data to life.\n",
    "\n",
    "#### _Objective 1: Numerical Predictors of Price and Review Score_ <a class=\"anchor\" id=\"section-1-2-1\"></a>\n",
    "\n",
    "This objective sets the foundation for our analyses. Using statistical techniques and feature selection I aim to reveal how Price and Review Score correlates with a range of features generated from the data.\n",
    "\n",
    "**Desired Output:** Heatmaps displaying the correllation of the dataset features with price and review score.\n",
    "\n",
    "#### Objective 2: _Mapping the Distributions of Listings_ <a class=\"anchor\" id=\"section-1-2-2\"></a>\n",
    "\n",
    "Utilising mapping and visualization, I will analyse the distribution of listings, discerning patterns in pricing and review scores across London. These insights will guide travelers and hosts in choosing the most suitable locations and properties.\n",
    "\n",
    "**Desired Output:** Visualisations showing the difference in density, price and review scores across London boroughs and how these factors change as you move away from the centre.\n",
    "\n",
    "#### Objective 3: _The Language of Short-Term Rentals_ <a class=\"anchor\" id=\"section-1-2-3\"></a>\n",
    "\n",
    "Building upon our analysis of pricing and review scores, I explore linguistic strategies employed in marketing Airbnb listings. This objective aims to uncover the language in listings associated with high and low review scores, as well as those used to promote more expensive properties vs cheaper ones.\n",
    "\n",
    "**Desired Output:** Word clouds categorised by price and review score demonstrating the language that correlates with those factors."
   ]
  },
  {
   "cell_type": "markdown",
   "metadata": {},
   "source": [
    "## System Design <a class=\"anchor\" id=\"section-1-3\"></a>\n",
    "\n",
    "### Architecture <a class=\"anchor\" id=\"section-1-3-1\"></a>\n",
    "\n",
    "The system design will be a common industry standard. \n",
    "\n",
    "1. Starting with a Data Engineering ELT (Extract Load Transform) pipeline. Not to be confused with ETL, the idea is we load in a raw cut of the dataset then once we have it stored in our machine we can do transformations. The transformations at this stage will just be simple data fixes and cleaning of values. \n",
    "\n",
    "2. Then I will move on to enhancement, using the existing features of our dataset to uncover more features to be used in our analyses.\n",
    "\n",
    "3. Next an Analysis piece where any outliers will be handled along with null values or anomalies. Here we will also aggregate and combine our two datasets ready for visualisation.\n",
    "\n",
    "4. Finally I will prepare the visualisations. \n",
    "\n",
    "![image.png](architechture.png)\n",
    "\n",
    "### Processing Modules and Algorithms <a class=\"anchor\" id=\"section-1-3-2\"></a>\n",
    "\n",
    "The most significant tools I will be using throughout this project are as follows:\n",
    "\n",
    "* pandas read and write functionality to capture and store the source data.\n",
    "* Using DataFrame loc to conditionally slice a DataFrame, adjust values or remove outliers.\n",
    "* The haversine formula, used to compute distance between two points on a globe.\n",
    "* Aggregations such as count and mean across boroughs and merging with the borough dataset to map the resulting values.\n",
    "* Lambda functions used to apply a small function to a whole Dataframe.\n",
    "* HTML alignment used to have more control over the position and size of visualisations.\n",
    "\n",
    "<br>\n",
    "\n",
    "# <u>Program Code</u>  <a class=\"anchor\" id=\"section-2\"></a>\n",
    "\n",
    "#### _Importing Packages_ <a class=\"anchor\" id=\"section-2-1\"></a>\n",
    "\n",
    "It is standard practice to import packages at the top of your code to show what dependencies are required to run the file.\n",
    "\n",
    "A couple of the packages we are going to import do not come as standard with Anaconda so I have provided a code snippet to pip install here."
   ]
  },
  {
   "cell_type": "code",
   "execution_count": 2,
   "metadata": {},
   "outputs": [
    {
     "name": "stdout",
     "output_type": "stream",
     "text": [
      "Requirement already satisfied: geopandas in /Users/jameswatson/anaconda3/lib/python3.11/site-packages (0.14.0)\n",
      "Requirement already satisfied: fiona>=1.8.21 in /Users/jameswatson/anaconda3/lib/python3.11/site-packages (from geopandas) (1.9.4.post1)\n",
      "Requirement already satisfied: packaging in /Users/jameswatson/anaconda3/lib/python3.11/site-packages (from geopandas) (23.0)\n",
      "Requirement already satisfied: pandas>=1.4.0 in /Users/jameswatson/anaconda3/lib/python3.11/site-packages (from geopandas) (1.5.3)\n",
      "Requirement already satisfied: pyproj>=3.3.0 in /Users/jameswatson/anaconda3/lib/python3.11/site-packages (from geopandas) (3.6.1)\n",
      "Requirement already satisfied: shapely>=1.8.0 in /Users/jameswatson/anaconda3/lib/python3.11/site-packages (from geopandas) (2.0.1)\n",
      "Requirement already satisfied: attrs>=19.2.0 in /Users/jameswatson/anaconda3/lib/python3.11/site-packages (from fiona>=1.8.21->geopandas) (22.1.0)\n",
      "Requirement already satisfied: certifi in /Users/jameswatson/anaconda3/lib/python3.11/site-packages (from fiona>=1.8.21->geopandas) (2023.7.22)\n",
      "Requirement already satisfied: click~=8.0 in /Users/jameswatson/anaconda3/lib/python3.11/site-packages (from fiona>=1.8.21->geopandas) (8.0.4)\n",
      "Requirement already satisfied: click-plugins>=1.0 in /Users/jameswatson/anaconda3/lib/python3.11/site-packages (from fiona>=1.8.21->geopandas) (1.1.1)\n",
      "Requirement already satisfied: cligj>=0.5 in /Users/jameswatson/anaconda3/lib/python3.11/site-packages (from fiona>=1.8.21->geopandas) (0.7.2)\n",
      "Requirement already satisfied: six in /Users/jameswatson/anaconda3/lib/python3.11/site-packages (from fiona>=1.8.21->geopandas) (1.16.0)\n",
      "Requirement already satisfied: python-dateutil>=2.8.1 in /Users/jameswatson/anaconda3/lib/python3.11/site-packages (from pandas>=1.4.0->geopandas) (2.8.2)\n",
      "Requirement already satisfied: pytz>=2020.1 in /Users/jameswatson/anaconda3/lib/python3.11/site-packages (from pandas>=1.4.0->geopandas) (2022.7)\n",
      "Requirement already satisfied: numpy>=1.21.0 in /Users/jameswatson/anaconda3/lib/python3.11/site-packages (from pandas>=1.4.0->geopandas) (1.24.3)\n",
      "Note: you may need to restart the kernel to use updated packages.\n",
      "Requirement already satisfied: folium in /Users/jameswatson/anaconda3/lib/python3.11/site-packages (0.14.0)\n",
      "Requirement already satisfied: branca>=0.6.0 in /Users/jameswatson/anaconda3/lib/python3.11/site-packages (from folium) (0.6.0)\n",
      "Requirement already satisfied: jinja2>=2.9 in /Users/jameswatson/anaconda3/lib/python3.11/site-packages (from folium) (3.1.2)\n",
      "Requirement already satisfied: numpy in /Users/jameswatson/anaconda3/lib/python3.11/site-packages (from folium) (1.24.3)\n",
      "Requirement already satisfied: requests in /Users/jameswatson/anaconda3/lib/python3.11/site-packages (from folium) (2.31.0)\n",
      "Requirement already satisfied: MarkupSafe>=2.0 in /Users/jameswatson/anaconda3/lib/python3.11/site-packages (from jinja2>=2.9->folium) (2.1.1)\n",
      "Requirement already satisfied: charset-normalizer<4,>=2 in /Users/jameswatson/anaconda3/lib/python3.11/site-packages (from requests->folium) (2.0.4)\n",
      "Requirement already satisfied: idna<4,>=2.5 in /Users/jameswatson/anaconda3/lib/python3.11/site-packages (from requests->folium) (3.4)\n",
      "Requirement already satisfied: urllib3<3,>=1.21.1 in /Users/jameswatson/anaconda3/lib/python3.11/site-packages (from requests->folium) (1.26.16)\n",
      "Requirement already satisfied: certifi>=2017.4.17 in /Users/jameswatson/anaconda3/lib/python3.11/site-packages (from requests->folium) (2023.7.22)\n",
      "Note: you may need to restart the kernel to use updated packages.\n",
      "Requirement already satisfied: wordcloud in /Users/jameswatson/anaconda3/lib/python3.11/site-packages (1.9.2)\n",
      "Requirement already satisfied: numpy>=1.6.1 in /Users/jameswatson/anaconda3/lib/python3.11/site-packages (from wordcloud) (1.24.3)\n",
      "Requirement already satisfied: pillow in /Users/jameswatson/anaconda3/lib/python3.11/site-packages (from wordcloud) (9.4.0)\n",
      "Requirement already satisfied: matplotlib in /Users/jameswatson/anaconda3/lib/python3.11/site-packages (from wordcloud) (3.7.1)\n",
      "Requirement already satisfied: contourpy>=1.0.1 in /Users/jameswatson/anaconda3/lib/python3.11/site-packages (from matplotlib->wordcloud) (1.0.5)\n",
      "Requirement already satisfied: cycler>=0.10 in /Users/jameswatson/anaconda3/lib/python3.11/site-packages (from matplotlib->wordcloud) (0.11.0)\n",
      "Requirement already satisfied: fonttools>=4.22.0 in /Users/jameswatson/anaconda3/lib/python3.11/site-packages (from matplotlib->wordcloud) (4.25.0)\n",
      "Requirement already satisfied: kiwisolver>=1.0.1 in /Users/jameswatson/anaconda3/lib/python3.11/site-packages (from matplotlib->wordcloud) (1.4.4)\n",
      "Requirement already satisfied: packaging>=20.0 in /Users/jameswatson/anaconda3/lib/python3.11/site-packages (from matplotlib->wordcloud) (23.0)\n",
      "Requirement already satisfied: pyparsing>=2.3.1 in /Users/jameswatson/anaconda3/lib/python3.11/site-packages (from matplotlib->wordcloud) (3.0.9)\n",
      "Requirement already satisfied: python-dateutil>=2.7 in /Users/jameswatson/anaconda3/lib/python3.11/site-packages (from matplotlib->wordcloud) (2.8.2)\n",
      "Requirement already satisfied: six>=1.5 in /Users/jameswatson/anaconda3/lib/python3.11/site-packages (from python-dateutil>=2.7->matplotlib->wordcloud) (1.16.0)\n",
      "Note: you may need to restart the kernel to use updated packages.\n"
     ]
    }
   ],
   "source": [
    "%pip install geopandas\n",
    "%pip install folium\n",
    "%pip install wordcloud"
   ]
  },
  {
   "cell_type": "markdown",
   "metadata": {},
   "source": [
    "I have provided some more detail about the use of each package."
   ]
  },
  {
   "cell_type": "code",
   "execution_count": 3,
   "metadata": {},
   "outputs": [],
   "source": [
    "# General purpose data analysis libraries.\n",
    "import pandas as pd\n",
    "import numpy as np\n",
    "import math\n",
    "import functools\n",
    "\n",
    "# For statistical and numerical plotting (Objective 1)\n",
    "import matplotlib.pyplot as plt\n",
    "import seaborn as sns\n",
    "\n",
    "# For plotting maps and handling spacial data (Objective 2)\n",
    "import folium\n",
    "from folium import plugins\n",
    "from folium.plugins import FastMarkerCluster\n",
    "import geopandas\n",
    "\n",
    "# Used to generate Word Clouds and handle text data (Objective 3)\n",
    "import string\n",
    "from collections import Counter\n",
    "from wordcloud import WordCloud\n",
    "\n",
    "# Used to have more control when displaying visualisations \n",
    "from IPython.display import HTML"
   ]
  },
  {
   "cell_type": "markdown",
   "metadata": {},
   "source": [
    "As a preference I set the max_columns option so that I can scroll across all the columns without them being truncated."
   ]
  },
  {
   "cell_type": "code",
   "execution_count": 4,
   "metadata": {},
   "outputs": [],
   "source": [
    "pd.options.display.max_columns = 500"
   ]
  },
  {
   "cell_type": "markdown",
   "metadata": {},
   "source": [
    "<br>\n",
    "\n",
    "## Data Engineering <a class=\"anchor\" id=\"section-2-2\"></a>\n",
    "\n",
    "#### _Raw Data Extraction_ <a class=\"anchor\" id=\"section-2-2-1\"></a>\n",
    "\n",
    "The goal for this section is to connect to our data source, pull in the required data and store a copy in our local files.\n",
    "\n",
    "With the column_data_types dictionary I produced during my initial analysis I can read in the raw dataset. However there is a small change I would like to make to separate out date columns. This will allow me to pass the dictionary in as an argument and a list of date columns in as another parse_dates argument. "
   ]
  },
  {
   "cell_type": "code",
   "execution_count": 5,
   "metadata": {},
   "outputs": [
    {
     "name": "stdout",
     "output_type": "stream",
     "text": [
      "Column Type Dict Length: 75\n",
      "New Column Type Dict Length: 70\n",
      "Date Column List Length: 5\n"
     ]
    }
   ],
   "source": [
    "print(f\"Column Type Dict Length: {len(column_data_types)}\")\n",
    "\n",
    "date_columns = []\n",
    "for col, dtype in column_data_types.items():\n",
    "    if dtype == \"datetime\":\n",
    "        date_columns.append(col)\n",
    "\n",
    "for column in date_columns:\n",
    "    column_data_types.pop(column)\n",
    "\n",
    "print(f\"New Column Type Dict Length: {len(column_data_types)}\")\n",
    "print(f\"Date Column List Length: {len(date_columns)}\")"
   ]
  },
  {
   "cell_type": "markdown",
   "metadata": {},
   "source": [
    "Now we have these separated we can now use pandas to extract the data from the source in the data directory. This code cell uses the url of the csv so that this is repeatable."
   ]
  },
  {
   "cell_type": "code",
   "execution_count": 6,
   "metadata": {},
   "outputs": [
    {
     "name": "stdout",
     "output_type": "stream",
     "text": [
      "DataFrame Shape: (87946, 75)\n"
     ]
    }
   ],
   "source": [
    "raw_df = pd.read_csv(\n",
    "    \"http://data.insideairbnb.com/united-kingdom/england/london/2023-09-06/data/listings.csv.gz\", \n",
    "    dtype=column_data_types, \n",
    "    parse_dates=date_columns\n",
    "    )\n",
    "\n",
    "print(f\"DataFrame Shape: {raw_df.shape}\")"
   ]
  },
  {
   "cell_type": "markdown",
   "metadata": {},
   "source": [
    "Now we have the data loaded with the expected number of records we can store it in a file. I am going to use parquet as storing in csv format can cause issues with our data types."
   ]
  },
  {
   "cell_type": "code",
   "execution_count": 7,
   "metadata": {},
   "outputs": [],
   "source": [
    "raw_df.to_parquet(\"listings.parquet\")"
   ]
  },
  {
   "cell_type": "markdown",
   "metadata": {},
   "source": [
    "I will do the same with the boroughs.geojson file."
   ]
  },
  {
   "cell_type": "code",
   "execution_count": 8,
   "metadata": {},
   "outputs": [],
   "source": [
    "boroughs = geopandas.read_file(\"http://data.insideairbnb.com/united-kingdom/england/london/2023-09-06/visualisations/neighbourhoods.geojson\")\n",
    "boroughs.to_file(\"boroughs.geojson\", driver='GeoJSON')"
   ]
  },
  {
   "cell_type": "markdown",
   "metadata": {},
   "source": [
    "So the E and L of the data pipeline is complete with the desired result. We can connect to the source and pull the two datasets into files on our machine. In a more scaled up approach this might into an S3 Bucket or database but this is fine for our project. \n",
    "\n",
    "Now we have a repeatable way of loading our 2 key datasets into our file with the following code."
   ]
  },
  {
   "cell_type": "code",
   "execution_count": 9,
   "metadata": {},
   "outputs": [
    {
     "name": "stdout",
     "output_type": "stream",
     "text": [
      "Listings Shape: (87946, 75)\n",
      "Boroughs Shape: (33, 3)\n"
     ]
    }
   ],
   "source": [
    "listings_df = pd.read_parquet(\"listings.parquet\")\n",
    "boroughs_geo = geopandas.read_file(\"boroughs.geojson\")\n",
    "\n",
    "print(f\"Listings Shape: {listings_df.shape}\")\n",
    "print(f\"Boroughs Shape: {boroughs_geo.shape}\")"
   ]
  },
  {
   "cell_type": "markdown",
   "metadata": {},
   "source": [
    "<br>\n",
    "\n",
    "#### _Fixing Boolean Columns_ <a class=\"anchor\" id=\"section-2-2-2\"></a>\n",
    "\n",
    "This section will fix an issue with in this dataset with columns that should be Boolean being set to \"t\" and \"f\" rather than True or False."
   ]
  },
  {
   "cell_type": "code",
   "execution_count": 10,
   "metadata": {},
   "outputs": [
    {
     "data": {
      "text/html": [
       "<div>\n",
       "<style scoped>\n",
       "    .dataframe tbody tr th:only-of-type {\n",
       "        vertical-align: middle;\n",
       "    }\n",
       "\n",
       "    .dataframe tbody tr th {\n",
       "        vertical-align: top;\n",
       "    }\n",
       "\n",
       "    .dataframe thead th {\n",
       "        text-align: right;\n",
       "    }\n",
       "</style>\n",
       "<table border=\"1\" class=\"dataframe\">\n",
       "  <thead>\n",
       "    <tr style=\"text-align: right;\">\n",
       "      <th></th>\n",
       "      <th>instant_bookable</th>\n",
       "      <th>has_availability</th>\n",
       "      <th>host_has_profile_pic</th>\n",
       "      <th>host_identity_verified</th>\n",
       "      <th>host_is_superhost</th>\n",
       "    </tr>\n",
       "  </thead>\n",
       "  <tbody>\n",
       "    <tr>\n",
       "      <th>0</th>\n",
       "      <td>t</td>\n",
       "      <td>t</td>\n",
       "      <td>t</td>\n",
       "      <td>t</td>\n",
       "      <td>f</td>\n",
       "    </tr>\n",
       "    <tr>\n",
       "      <th>1</th>\n",
       "      <td>f</td>\n",
       "      <td>t</td>\n",
       "      <td>t</td>\n",
       "      <td>t</td>\n",
       "      <td>f</td>\n",
       "    </tr>\n",
       "    <tr>\n",
       "      <th>2</th>\n",
       "      <td>f</td>\n",
       "      <td>t</td>\n",
       "      <td>t</td>\n",
       "      <td>t</td>\n",
       "      <td>f</td>\n",
       "    </tr>\n",
       "    <tr>\n",
       "      <th>3</th>\n",
       "      <td>f</td>\n",
       "      <td>t</td>\n",
       "      <td>t</td>\n",
       "      <td>t</td>\n",
       "      <td>f</td>\n",
       "    </tr>\n",
       "    <tr>\n",
       "      <th>4</th>\n",
       "      <td>f</td>\n",
       "      <td>t</td>\n",
       "      <td>t</td>\n",
       "      <td>t</td>\n",
       "      <td>t</td>\n",
       "    </tr>\n",
       "  </tbody>\n",
       "</table>\n",
       "</div>"
      ],
      "text/plain": [
       "  instant_bookable has_availability host_has_profile_pic  \\\n",
       "0                t                t                    t   \n",
       "1                f                t                    t   \n",
       "2                f                t                    t   \n",
       "3                f                t                    t   \n",
       "4                f                t                    t   \n",
       "\n",
       "  host_identity_verified host_is_superhost  \n",
       "0                      t                 f  \n",
       "1                      t                 f  \n",
       "2                      t                 f  \n",
       "3                      t                 f  \n",
       "4                      t                 t  "
      ]
     },
     "metadata": {},
     "output_type": "display_data"
    }
   ],
   "source": [
    "bool_columns = [\n",
    "    'instant_bookable',\n",
    "    'has_availability',\n",
    "    'host_has_profile_pic',\n",
    "    'host_identity_verified',\n",
    "    'host_is_superhost'\n",
    "]\n",
    "display(listings_df[bool_columns].head())"
   ]
  },
  {
   "cell_type": "markdown",
   "metadata": {},
   "source": [
    "See how the True and False values are stored as t and f in the dataset. This is understood as a string by Pandas which doesn't reflect the underlying value in the listing.\n",
    "\n",
    "The aim is to change these values to 1 or 0 and cast as a float which will allow them to be used for correlation later on."
   ]
  },
  {
   "cell_type": "code",
   "execution_count": 11,
   "metadata": {},
   "outputs": [
    {
     "data": {
      "text/html": [
       "<div>\n",
       "<style scoped>\n",
       "    .dataframe tbody tr th:only-of-type {\n",
       "        vertical-align: middle;\n",
       "    }\n",
       "\n",
       "    .dataframe tbody tr th {\n",
       "        vertical-align: top;\n",
       "    }\n",
       "\n",
       "    .dataframe thead th {\n",
       "        text-align: right;\n",
       "    }\n",
       "</style>\n",
       "<table border=\"1\" class=\"dataframe\">\n",
       "  <thead>\n",
       "    <tr style=\"text-align: right;\">\n",
       "      <th></th>\n",
       "      <th>instant_bookable</th>\n",
       "      <th>has_availability</th>\n",
       "      <th>host_has_profile_pic</th>\n",
       "      <th>host_identity_verified</th>\n",
       "      <th>host_is_superhost</th>\n",
       "    </tr>\n",
       "  </thead>\n",
       "  <tbody>\n",
       "    <tr>\n",
       "      <th>0</th>\n",
       "      <td>1.0</td>\n",
       "      <td>1.0</td>\n",
       "      <td>1.0</td>\n",
       "      <td>1.0</td>\n",
       "      <td>0.0</td>\n",
       "    </tr>\n",
       "    <tr>\n",
       "      <th>1</th>\n",
       "      <td>0.0</td>\n",
       "      <td>1.0</td>\n",
       "      <td>1.0</td>\n",
       "      <td>1.0</td>\n",
       "      <td>0.0</td>\n",
       "    </tr>\n",
       "    <tr>\n",
       "      <th>2</th>\n",
       "      <td>0.0</td>\n",
       "      <td>1.0</td>\n",
       "      <td>1.0</td>\n",
       "      <td>1.0</td>\n",
       "      <td>0.0</td>\n",
       "    </tr>\n",
       "    <tr>\n",
       "      <th>3</th>\n",
       "      <td>0.0</td>\n",
       "      <td>1.0</td>\n",
       "      <td>1.0</td>\n",
       "      <td>1.0</td>\n",
       "      <td>0.0</td>\n",
       "    </tr>\n",
       "    <tr>\n",
       "      <th>4</th>\n",
       "      <td>0.0</td>\n",
       "      <td>1.0</td>\n",
       "      <td>1.0</td>\n",
       "      <td>1.0</td>\n",
       "      <td>1.0</td>\n",
       "    </tr>\n",
       "  </tbody>\n",
       "</table>\n",
       "</div>"
      ],
      "text/plain": [
       "   instant_bookable  has_availability  host_has_profile_pic  \\\n",
       "0               1.0               1.0                   1.0   \n",
       "1               0.0               1.0                   1.0   \n",
       "2               0.0               1.0                   1.0   \n",
       "3               0.0               1.0                   1.0   \n",
       "4               0.0               1.0                   1.0   \n",
       "\n",
       "   host_identity_verified  host_is_superhost  \n",
       "0                     1.0                0.0  \n",
       "1                     1.0                0.0  \n",
       "2                     1.0                0.0  \n",
       "3                     1.0                0.0  \n",
       "4                     1.0                1.0  "
      ]
     },
     "metadata": {},
     "output_type": "display_data"
    },
    {
     "name": "stdout",
     "output_type": "stream",
     "text": [
      "Listings Shape: (87946, 75)\n"
     ]
    }
   ],
   "source": [
    "for col in bool_columns:\n",
    "    listings_df.loc[listings_df[col] == \"t\", col] = \"1\"\n",
    "    listings_df.loc[listings_df[col] == \"f\", col] = \"0\"\n",
    "    listings_df[col] = listings_df[col].astype(float)\n",
    "display(listings_df[bool_columns].head())\n",
    "print(f\"Listings Shape: {listings_df.shape}\")"
   ]
  },
  {
   "cell_type": "markdown",
   "metadata": {},
   "source": [
    "See how now t has become 1.0 and f has become 0.0 which has resolved this data issue. "
   ]
  },
  {
   "cell_type": "markdown",
   "metadata": {},
   "source": [
    "#### _Fixing Cost Columns_ <a class=\"anchor\" id=\"section-2-2-3\"></a>\n",
    "\n",
    "Next we will look at an issue with the price column. We are looking at it as a list to make it easy to add future columns if they appear in the dataset. "
   ]
  },
  {
   "cell_type": "code",
   "execution_count": 12,
   "metadata": {},
   "outputs": [
    {
     "data": {
      "text/html": [
       "<div>\n",
       "<style scoped>\n",
       "    .dataframe tbody tr th:only-of-type {\n",
       "        vertical-align: middle;\n",
       "    }\n",
       "\n",
       "    .dataframe tbody tr th {\n",
       "        vertical-align: top;\n",
       "    }\n",
       "\n",
       "    .dataframe thead th {\n",
       "        text-align: right;\n",
       "    }\n",
       "</style>\n",
       "<table border=\"1\" class=\"dataframe\">\n",
       "  <thead>\n",
       "    <tr style=\"text-align: right;\">\n",
       "      <th></th>\n",
       "      <th>price</th>\n",
       "      <th>listing_url</th>\n",
       "    </tr>\n",
       "  </thead>\n",
       "  <tbody>\n",
       "    <tr>\n",
       "      <th>0</th>\n",
       "      <td>$42.00</td>\n",
       "      <td>https://www.airbnb.com/rooms/92644</td>\n",
       "    </tr>\n",
       "    <tr>\n",
       "      <th>1</th>\n",
       "      <td>$175.00</td>\n",
       "      <td>https://www.airbnb.com/rooms/93015</td>\n",
       "    </tr>\n",
       "    <tr>\n",
       "      <th>2</th>\n",
       "      <td>$79.00</td>\n",
       "      <td>https://www.airbnb.com/rooms/13913</td>\n",
       "    </tr>\n",
       "    <tr>\n",
       "      <th>3</th>\n",
       "      <td>$150.00</td>\n",
       "      <td>https://www.airbnb.com/rooms/15400</td>\n",
       "    </tr>\n",
       "    <tr>\n",
       "      <th>4</th>\n",
       "      <td>$46.00</td>\n",
       "      <td>https://www.airbnb.com/rooms/93734</td>\n",
       "    </tr>\n",
       "  </tbody>\n",
       "</table>\n",
       "</div>"
      ],
      "text/plain": [
       "     price                         listing_url\n",
       "0   $42.00  https://www.airbnb.com/rooms/92644\n",
       "1  $175.00  https://www.airbnb.com/rooms/93015\n",
       "2   $79.00  https://www.airbnb.com/rooms/13913\n",
       "3  $150.00  https://www.airbnb.com/rooms/15400\n",
       "4   $46.00  https://www.airbnb.com/rooms/93734"
      ]
     },
     "metadata": {},
     "output_type": "display_data"
    }
   ],
   "source": [
    "cost_columns = [\n",
    "    \"price\"\n",
    "]\n",
    "display(listings_df[cost_columns+[\"listing_url\"]].head(5))"
   ]
  },
  {
   "cell_type": "markdown",
   "metadata": {},
   "source": [
    "Printing out this column we see that the issue is that the values contain $ and , characters inside the cost which is preventing them from being cast as float values and therefore preventing any numerical analysis. \n",
    "\n",
    "This is also an issue due to the currency symbol being incorrect. If you check these listings for example index 0 has a price per night of £42 and hour not $42. "
   ]
  },
  {
   "cell_type": "code",
   "execution_count": 13,
   "metadata": {},
   "outputs": [
    {
     "data": {
      "text/html": [
       "<div>\n",
       "<style scoped>\n",
       "    .dataframe tbody tr th:only-of-type {\n",
       "        vertical-align: middle;\n",
       "    }\n",
       "\n",
       "    .dataframe tbody tr th {\n",
       "        vertical-align: top;\n",
       "    }\n",
       "\n",
       "    .dataframe thead th {\n",
       "        text-align: right;\n",
       "    }\n",
       "</style>\n",
       "<table border=\"1\" class=\"dataframe\">\n",
       "  <thead>\n",
       "    <tr style=\"text-align: right;\">\n",
       "      <th></th>\n",
       "      <th>price</th>\n",
       "      <th>listing_url</th>\n",
       "    </tr>\n",
       "  </thead>\n",
       "  <tbody>\n",
       "    <tr>\n",
       "      <th>0</th>\n",
       "      <td>42.0</td>\n",
       "      <td>https://www.airbnb.com/rooms/92644</td>\n",
       "    </tr>\n",
       "    <tr>\n",
       "      <th>1</th>\n",
       "      <td>175.0</td>\n",
       "      <td>https://www.airbnb.com/rooms/93015</td>\n",
       "    </tr>\n",
       "    <tr>\n",
       "      <th>2</th>\n",
       "      <td>79.0</td>\n",
       "      <td>https://www.airbnb.com/rooms/13913</td>\n",
       "    </tr>\n",
       "    <tr>\n",
       "      <th>3</th>\n",
       "      <td>150.0</td>\n",
       "      <td>https://www.airbnb.com/rooms/15400</td>\n",
       "    </tr>\n",
       "    <tr>\n",
       "      <th>4</th>\n",
       "      <td>46.0</td>\n",
       "      <td>https://www.airbnb.com/rooms/93734</td>\n",
       "    </tr>\n",
       "  </tbody>\n",
       "</table>\n",
       "</div>"
      ],
      "text/plain": [
       "   price                         listing_url\n",
       "0   42.0  https://www.airbnb.com/rooms/92644\n",
       "1  175.0  https://www.airbnb.com/rooms/93015\n",
       "2   79.0  https://www.airbnb.com/rooms/13913\n",
       "3  150.0  https://www.airbnb.com/rooms/15400\n",
       "4   46.0  https://www.airbnb.com/rooms/93734"
      ]
     },
     "metadata": {},
     "output_type": "display_data"
    }
   ],
   "source": [
    "for col in cost_columns:\n",
    "    listings_df[col] = listings_df[col].str.replace(\"\\$|,\", \"\", regex=True)\n",
    "    listings_df[col] = listings_df[col].astype(float)\n",
    "display(listings_df[cost_columns+[\"listing_url\"]].head(5))"
   ]
  },
  {
   "cell_type": "markdown",
   "metadata": {},
   "source": [
    "Replacing and recasting has fixed this issue. Now price is a numerical value that we can analyse as such.\n",
    "\n",
    "<br>\n",
    "\n",
    "## Data Enhancement <a class=\"anchor\" id=\"section-2-3\"></a>\n",
    "\n",
    "#### _Feature Selection_ <a class=\"anchor\" id=\"section-2-3-1\"></a>\n",
    "\n",
    "Due to the breadth of this dataset there are many columns which will not be of use during this project. To reduce the noise in the dataset I will specify in a list the columns that I will use and leave the remaining ones out. However, if the requirement come later down the line to use these columns they can easily be added here."
   ]
  },
  {
   "cell_type": "code",
   "execution_count": 14,
   "metadata": {},
   "outputs": [
    {
     "data": {
      "text/html": [
       "<div>\n",
       "<style scoped>\n",
       "    .dataframe tbody tr th:only-of-type {\n",
       "        vertical-align: middle;\n",
       "    }\n",
       "\n",
       "    .dataframe tbody tr th {\n",
       "        vertical-align: top;\n",
       "    }\n",
       "\n",
       "    .dataframe thead th {\n",
       "        text-align: right;\n",
       "    }\n",
       "</style>\n",
       "<table border=\"1\" class=\"dataframe\">\n",
       "  <thead>\n",
       "    <tr style=\"text-align: right;\">\n",
       "      <th></th>\n",
       "      <th>listing_url</th>\n",
       "      <th>name</th>\n",
       "      <th>description</th>\n",
       "      <th>host_response_time</th>\n",
       "      <th>host_response_rate</th>\n",
       "      <th>host_acceptance_rate</th>\n",
       "      <th>host_is_superhost</th>\n",
       "      <th>host_total_listings_count</th>\n",
       "      <th>host_has_profile_pic</th>\n",
       "      <th>host_identity_verified</th>\n",
       "      <th>neighbourhood_cleansed</th>\n",
       "      <th>latitude</th>\n",
       "      <th>longitude</th>\n",
       "      <th>property_type</th>\n",
       "      <th>room_type</th>\n",
       "      <th>bathrooms_text</th>\n",
       "      <th>beds</th>\n",
       "      <th>amenities</th>\n",
       "      <th>price</th>\n",
       "      <th>number_of_reviews</th>\n",
       "      <th>number_of_reviews_ltm</th>\n",
       "      <th>review_scores_rating</th>\n",
       "      <th>review_scores_accuracy</th>\n",
       "      <th>review_scores_cleanliness</th>\n",
       "      <th>review_scores_checkin</th>\n",
       "      <th>review_scores_communication</th>\n",
       "      <th>review_scores_location</th>\n",
       "      <th>review_scores_value</th>\n",
       "      <th>instant_bookable</th>\n",
       "      <th>calculated_host_listings_count</th>\n",
       "      <th>reviews_per_month</th>\n",
       "    </tr>\n",
       "  </thead>\n",
       "  <tbody>\n",
       "    <tr>\n",
       "      <th>0</th>\n",
       "      <td>https://www.airbnb.com/rooms/92644</td>\n",
       "      <td>Rental unit in Earlsfield · ★4.57 · 1 bedroom ...</td>\n",
       "      <td>&lt;b&gt;The space&lt;/b&gt;&lt;br /&gt;Hi everyone! I have 2 ro...</td>\n",
       "      <td>NaN</td>\n",
       "      <td>&lt;NA&gt;</td>\n",
       "      <td>100%</td>\n",
       "      <td>0.0</td>\n",
       "      <td>1.0</td>\n",
       "      <td>1.0</td>\n",
       "      <td>1.0</td>\n",
       "      <td>Wandsworth</td>\n",
       "      <td>51.44201</td>\n",
       "      <td>-0.18739</td>\n",
       "      <td>Private room in rental unit</td>\n",
       "      <td>Private room</td>\n",
       "      <td>1.5 shared baths</td>\n",
       "      <td>2.0</td>\n",
       "      <td>[\"Heating\", \"TV with standard cable\", \"Wifi\", ...</td>\n",
       "      <td>42.0</td>\n",
       "      <td>216</td>\n",
       "      <td>9</td>\n",
       "      <td>4.57</td>\n",
       "      <td>4.74</td>\n",
       "      <td>4.86</td>\n",
       "      <td>4.71</td>\n",
       "      <td>4.67</td>\n",
       "      <td>4.53</td>\n",
       "      <td>4.68</td>\n",
       "      <td>1.0</td>\n",
       "      <td>1</td>\n",
       "      <td>1.45</td>\n",
       "    </tr>\n",
       "    <tr>\n",
       "      <th>1</th>\n",
       "      <td>https://www.airbnb.com/rooms/93015</td>\n",
       "      <td>Rental unit in Hammersmith · ★4.82 · 2 bedroom...</td>\n",
       "      <td>Gorgeous 2 bed ground floor apartment with per...</td>\n",
       "      <td>within a few hours</td>\n",
       "      <td>100%</td>\n",
       "      <td>25%</td>\n",
       "      <td>0.0</td>\n",
       "      <td>2.0</td>\n",
       "      <td>1.0</td>\n",
       "      <td>1.0</td>\n",
       "      <td>Hammersmith and Fulham</td>\n",
       "      <td>51.49993</td>\n",
       "      <td>-0.21707</td>\n",
       "      <td>Entire rental unit</td>\n",
       "      <td>Entire home/apt</td>\n",
       "      <td>1 bath</td>\n",
       "      <td>3.0</td>\n",
       "      <td>[\"Window guards\", \"Bathtub\", \"Hot water kettle...</td>\n",
       "      <td>175.0</td>\n",
       "      <td>38</td>\n",
       "      <td>2</td>\n",
       "      <td>4.82</td>\n",
       "      <td>4.76</td>\n",
       "      <td>4.62</td>\n",
       "      <td>4.85</td>\n",
       "      <td>4.88</td>\n",
       "      <td>4.85</td>\n",
       "      <td>4.74</td>\n",
       "      <td>0.0</td>\n",
       "      <td>1</td>\n",
       "      <td>0.27</td>\n",
       "    </tr>\n",
       "    <tr>\n",
       "      <th>2</th>\n",
       "      <td>https://www.airbnb.com/rooms/13913</td>\n",
       "      <td>Rental unit in Islington · ★4.80 · 1 bedroom ·...</td>\n",
       "      <td>My bright double bedroom with a large window h...</td>\n",
       "      <td>within a few hours</td>\n",
       "      <td>100%</td>\n",
       "      <td>88%</td>\n",
       "      <td>0.0</td>\n",
       "      <td>4.0</td>\n",
       "      <td>1.0</td>\n",
       "      <td>1.0</td>\n",
       "      <td>Islington</td>\n",
       "      <td>51.56861</td>\n",
       "      <td>-0.11270</td>\n",
       "      <td>Private room in rental unit</td>\n",
       "      <td>Private room</td>\n",
       "      <td>1 shared bath</td>\n",
       "      <td>1.0</td>\n",
       "      <td>[\"Bathtub\", \"Hot water kettle\", \"Laundromat ne...</td>\n",
       "      <td>79.0</td>\n",
       "      <td>41</td>\n",
       "      <td>11</td>\n",
       "      <td>4.80</td>\n",
       "      <td>4.72</td>\n",
       "      <td>4.72</td>\n",
       "      <td>4.74</td>\n",
       "      <td>4.82</td>\n",
       "      <td>4.69</td>\n",
       "      <td>4.69</td>\n",
       "      <td>0.0</td>\n",
       "      <td>2</td>\n",
       "      <td>0.26</td>\n",
       "    </tr>\n",
       "    <tr>\n",
       "      <th>3</th>\n",
       "      <td>https://www.airbnb.com/rooms/15400</td>\n",
       "      <td>Rental unit in London · ★4.80 · 1 bedroom · 1 ...</td>\n",
       "      <td>Lots of windows and light.  St Luke's Gardens ...</td>\n",
       "      <td>within a day</td>\n",
       "      <td>100%</td>\n",
       "      <td>41%</td>\n",
       "      <td>0.0</td>\n",
       "      <td>12.0</td>\n",
       "      <td>1.0</td>\n",
       "      <td>1.0</td>\n",
       "      <td>Kensington and Chelsea</td>\n",
       "      <td>51.48780</td>\n",
       "      <td>-0.16813</td>\n",
       "      <td>Entire rental unit</td>\n",
       "      <td>Entire home/apt</td>\n",
       "      <td>1 bath</td>\n",
       "      <td>1.0</td>\n",
       "      <td>[\"Shampoo\", \"Luggage dropoff allowed\", \"Dryer\"...</td>\n",
       "      <td>150.0</td>\n",
       "      <td>94</td>\n",
       "      <td>5</td>\n",
       "      <td>4.80</td>\n",
       "      <td>4.85</td>\n",
       "      <td>4.88</td>\n",
       "      <td>4.88</td>\n",
       "      <td>4.83</td>\n",
       "      <td>4.93</td>\n",
       "      <td>4.74</td>\n",
       "      <td>0.0</td>\n",
       "      <td>1</td>\n",
       "      <td>0.56</td>\n",
       "    </tr>\n",
       "    <tr>\n",
       "      <th>4</th>\n",
       "      <td>https://www.airbnb.com/rooms/93734</td>\n",
       "      <td>Condo in London · ★4.62 · 1 bedroom · 1 bed · ...</td>\n",
       "      <td>&lt;b&gt;During your stay&lt;/b&gt;&lt;br /&gt;I’m a professiona...</td>\n",
       "      <td>within a few hours</td>\n",
       "      <td>90%</td>\n",
       "      <td>75%</td>\n",
       "      <td>1.0</td>\n",
       "      <td>1.0</td>\n",
       "      <td>1.0</td>\n",
       "      <td>1.0</td>\n",
       "      <td>Greenwich</td>\n",
       "      <td>51.47618</td>\n",
       "      <td>0.01442</td>\n",
       "      <td>Private room in condo</td>\n",
       "      <td>Private room</td>\n",
       "      <td>1 shared bath</td>\n",
       "      <td>1.0</td>\n",
       "      <td>[\"Window guards\", \"Bathtub\", \"Hot water kettle...</td>\n",
       "      <td>46.0</td>\n",
       "      <td>180</td>\n",
       "      <td>25</td>\n",
       "      <td>4.62</td>\n",
       "      <td>4.70</td>\n",
       "      <td>4.59</td>\n",
       "      <td>4.63</td>\n",
       "      <td>4.81</td>\n",
       "      <td>4.64</td>\n",
       "      <td>4.67</td>\n",
       "      <td>0.0</td>\n",
       "      <td>1</td>\n",
       "      <td>1.21</td>\n",
       "    </tr>\n",
       "  </tbody>\n",
       "</table>\n",
       "</div>"
      ],
      "text/plain": [
       "                          listing_url  \\\n",
       "0  https://www.airbnb.com/rooms/92644   \n",
       "1  https://www.airbnb.com/rooms/93015   \n",
       "2  https://www.airbnb.com/rooms/13913   \n",
       "3  https://www.airbnb.com/rooms/15400   \n",
       "4  https://www.airbnb.com/rooms/93734   \n",
       "\n",
       "                                                name  \\\n",
       "0  Rental unit in Earlsfield · ★4.57 · 1 bedroom ...   \n",
       "1  Rental unit in Hammersmith · ★4.82 · 2 bedroom...   \n",
       "2  Rental unit in Islington · ★4.80 · 1 bedroom ·...   \n",
       "3  Rental unit in London · ★4.80 · 1 bedroom · 1 ...   \n",
       "4  Condo in London · ★4.62 · 1 bedroom · 1 bed · ...   \n",
       "\n",
       "                                         description  host_response_time  \\\n",
       "0  <b>The space</b><br />Hi everyone! I have 2 ro...                 NaN   \n",
       "1  Gorgeous 2 bed ground floor apartment with per...  within a few hours   \n",
       "2  My bright double bedroom with a large window h...  within a few hours   \n",
       "3  Lots of windows and light.  St Luke's Gardens ...        within a day   \n",
       "4  <b>During your stay</b><br />I’m a professiona...  within a few hours   \n",
       "\n",
       "  host_response_rate host_acceptance_rate  host_is_superhost  \\\n",
       "0               <NA>                 100%                0.0   \n",
       "1               100%                  25%                0.0   \n",
       "2               100%                  88%                0.0   \n",
       "3               100%                  41%                0.0   \n",
       "4                90%                  75%                1.0   \n",
       "\n",
       "   host_total_listings_count  host_has_profile_pic  host_identity_verified  \\\n",
       "0                        1.0                   1.0                     1.0   \n",
       "1                        2.0                   1.0                     1.0   \n",
       "2                        4.0                   1.0                     1.0   \n",
       "3                       12.0                   1.0                     1.0   \n",
       "4                        1.0                   1.0                     1.0   \n",
       "\n",
       "   neighbourhood_cleansed  latitude  longitude                property_type  \\\n",
       "0              Wandsworth  51.44201   -0.18739  Private room in rental unit   \n",
       "1  Hammersmith and Fulham  51.49993   -0.21707           Entire rental unit   \n",
       "2               Islington  51.56861   -0.11270  Private room in rental unit   \n",
       "3  Kensington and Chelsea  51.48780   -0.16813           Entire rental unit   \n",
       "4               Greenwich  51.47618    0.01442        Private room in condo   \n",
       "\n",
       "         room_type    bathrooms_text  beds  \\\n",
       "0     Private room  1.5 shared baths   2.0   \n",
       "1  Entire home/apt            1 bath   3.0   \n",
       "2     Private room     1 shared bath   1.0   \n",
       "3  Entire home/apt            1 bath   1.0   \n",
       "4     Private room     1 shared bath   1.0   \n",
       "\n",
       "                                           amenities  price  \\\n",
       "0  [\"Heating\", \"TV with standard cable\", \"Wifi\", ...   42.0   \n",
       "1  [\"Window guards\", \"Bathtub\", \"Hot water kettle...  175.0   \n",
       "2  [\"Bathtub\", \"Hot water kettle\", \"Laundromat ne...   79.0   \n",
       "3  [\"Shampoo\", \"Luggage dropoff allowed\", \"Dryer\"...  150.0   \n",
       "4  [\"Window guards\", \"Bathtub\", \"Hot water kettle...   46.0   \n",
       "\n",
       "   number_of_reviews  number_of_reviews_ltm  review_scores_rating  \\\n",
       "0                216                      9                  4.57   \n",
       "1                 38                      2                  4.82   \n",
       "2                 41                     11                  4.80   \n",
       "3                 94                      5                  4.80   \n",
       "4                180                     25                  4.62   \n",
       "\n",
       "   review_scores_accuracy  review_scores_cleanliness  review_scores_checkin  \\\n",
       "0                    4.74                       4.86                   4.71   \n",
       "1                    4.76                       4.62                   4.85   \n",
       "2                    4.72                       4.72                   4.74   \n",
       "3                    4.85                       4.88                   4.88   \n",
       "4                    4.70                       4.59                   4.63   \n",
       "\n",
       "   review_scores_communication  review_scores_location  review_scores_value  \\\n",
       "0                         4.67                    4.53                 4.68   \n",
       "1                         4.88                    4.85                 4.74   \n",
       "2                         4.82                    4.69                 4.69   \n",
       "3                         4.83                    4.93                 4.74   \n",
       "4                         4.81                    4.64                 4.67   \n",
       "\n",
       "   instant_bookable  calculated_host_listings_count  reviews_per_month  \n",
       "0               1.0                               1               1.45  \n",
       "1               0.0                               1               0.27  \n",
       "2               0.0                               2               0.26  \n",
       "3               0.0                               1               0.56  \n",
       "4               0.0                               1               1.21  "
      ]
     },
     "execution_count": 14,
     "metadata": {},
     "output_type": "execute_result"
    }
   ],
   "source": [
    "select_columns = [\n",
    "    # \"id\",\n",
    "    \"listing_url\",\n",
    "    # \"scrape_id\",\n",
    "    # \"source\",\n",
    "    \"name\",\n",
    "    \"description\",\n",
    "    # \"neighborhood_overview\",\n",
    "    # \"picture_url\",\n",
    "    # \"host_id\",\n",
    "    # \"host_url\",\n",
    "    # \"host_name\",\n",
    "    # \"host_location\",\n",
    "    # \"host_about\",\n",
    "    \"host_response_time\",\n",
    "    \"host_response_rate\",\n",
    "    \"host_acceptance_rate\",\n",
    "    \"host_is_superhost\",\n",
    "    # \"host_thumbnail_url\",\n",
    "    # \"host_picture_url\",\n",
    "    # \"host_neighbourhood\",\n",
    "    # \"host_listings_count\",\n",
    "    \"host_total_listings_count\",\n",
    "    # \"host_verifications\",\n",
    "    \"host_has_profile_pic\",\n",
    "    \"host_identity_verified\",\n",
    "    # \"neighbourhood\",\n",
    "    \"neighbourhood_cleansed\",\n",
    "    # \"neighbourhood_group_cleansed\",\n",
    "    \"latitude\",\n",
    "    \"longitude\",\n",
    "    \"property_type\",\n",
    "    \"room_type\",\n",
    "    # \"accommodates\",\n",
    "    # \"bathrooms\",\n",
    "    \"bathrooms_text\",\n",
    "    # \"bedrooms\",\n",
    "    \"beds\",\n",
    "    \"amenities\",\n",
    "    \"price\",\n",
    "    # \"minimum_nights\",\n",
    "    # \"maximum_nights\",\n",
    "    # \"minimum_minimum_nights\",\n",
    "    # \"maximum_minimum_nights\",\n",
    "    # \"minimum_maximum_nights\",\n",
    "    # \"maximum_maximum_nights\",\n",
    "    # \"minimum_nights_avg_ntm\",\n",
    "    # \"maximum_nights_avg_ntm\",\n",
    "    # \"calendar_updated\",\n",
    "    # \"has_availability\",\n",
    "    # \"availability_30\",\n",
    "    # \"availability_60\",\n",
    "    # \"availability_90\",\n",
    "    # \"availability_365\",\n",
    "    \"number_of_reviews\",\n",
    "    \"number_of_reviews_ltm\",\n",
    "    # \"number_of_reviews_l30d\",\n",
    "    \"review_scores_rating\",\n",
    "    \"review_scores_accuracy\",\n",
    "    \"review_scores_cleanliness\",\n",
    "    \"review_scores_checkin\",\n",
    "    \"review_scores_communication\",\n",
    "    \"review_scores_location\",\n",
    "    \"review_scores_value\",\n",
    "    # \"license\",\n",
    "    \"instant_bookable\",\n",
    "    \"calculated_host_listings_count\",\n",
    "    # \"calculated_host_listings_count_entire_homes\",\n",
    "    # \"calculated_host_listings_count_private_rooms\",\n",
    "    # \"calculated_host_listings_count_shared_rooms\",\n",
    "    \"reviews_per_month\"\n",
    "]\n",
    "listings_df = listings_df[select_columns]\n",
    "listings_df.head()"
   ]
  },
  {
   "cell_type": "markdown",
   "metadata": {},
   "source": [
    "With this feature set as a baseline we can now start to think about enhancement.\n",
    "\n",
    "<br>\n",
    "\n",
    "#### _Distance From the Centre_ <a class=\"anchor\" id=\"section-2-3-2\"></a>\n",
    "\n",
    "The Listings DataFrame contains coordinates for each listing."
   ]
  },
  {
   "cell_type": "code",
   "execution_count": 15,
   "metadata": {},
   "outputs": [
    {
     "data": {
      "text/html": [
       "<div>\n",
       "<style scoped>\n",
       "    .dataframe tbody tr th:only-of-type {\n",
       "        vertical-align: middle;\n",
       "    }\n",
       "\n",
       "    .dataframe tbody tr th {\n",
       "        vertical-align: top;\n",
       "    }\n",
       "\n",
       "    .dataframe thead th {\n",
       "        text-align: right;\n",
       "    }\n",
       "</style>\n",
       "<table border=\"1\" class=\"dataframe\">\n",
       "  <thead>\n",
       "    <tr style=\"text-align: right;\">\n",
       "      <th></th>\n",
       "      <th>listing_url</th>\n",
       "      <th>latitude</th>\n",
       "      <th>longitude</th>\n",
       "    </tr>\n",
       "  </thead>\n",
       "  <tbody>\n",
       "    <tr>\n",
       "      <th>0</th>\n",
       "      <td>https://www.airbnb.com/rooms/92644</td>\n",
       "      <td>51.44201</td>\n",
       "      <td>-0.18739</td>\n",
       "    </tr>\n",
       "    <tr>\n",
       "      <th>1</th>\n",
       "      <td>https://www.airbnb.com/rooms/93015</td>\n",
       "      <td>51.49993</td>\n",
       "      <td>-0.21707</td>\n",
       "    </tr>\n",
       "    <tr>\n",
       "      <th>2</th>\n",
       "      <td>https://www.airbnb.com/rooms/13913</td>\n",
       "      <td>51.56861</td>\n",
       "      <td>-0.11270</td>\n",
       "    </tr>\n",
       "    <tr>\n",
       "      <th>3</th>\n",
       "      <td>https://www.airbnb.com/rooms/15400</td>\n",
       "      <td>51.48780</td>\n",
       "      <td>-0.16813</td>\n",
       "    </tr>\n",
       "    <tr>\n",
       "      <th>4</th>\n",
       "      <td>https://www.airbnb.com/rooms/93734</td>\n",
       "      <td>51.47618</td>\n",
       "      <td>0.01442</td>\n",
       "    </tr>\n",
       "  </tbody>\n",
       "</table>\n",
       "</div>"
      ],
      "text/plain": [
       "                          listing_url  latitude  longitude\n",
       "0  https://www.airbnb.com/rooms/92644  51.44201   -0.18739\n",
       "1  https://www.airbnb.com/rooms/93015  51.49993   -0.21707\n",
       "2  https://www.airbnb.com/rooms/13913  51.56861   -0.11270\n",
       "3  https://www.airbnb.com/rooms/15400  51.48780   -0.16813\n",
       "4  https://www.airbnb.com/rooms/93734  51.47618    0.01442"
      ]
     },
     "execution_count": 15,
     "metadata": {},
     "output_type": "execute_result"
    }
   ],
   "source": [
    "listings_df[[\"listing_url\", \"latitude\", \"longitude\"]].head(5)"
   ]
  },
  {
   "cell_type": "markdown",
   "metadata": {},
   "source": [
    "This information is useful on it's own but it would be good to have a single datapoint that measures how close the listing is to the centre of London. This means we need to choose a centre point. This is a question with seemingly no right answer but after doing research I found this article which gave coordinates of the exact centre of London based on geographic measurements:\n",
    "\n",
    "https://www.standard.co.uk/news/london/london-s-real-centre-point-is-next-to-bench-on-the-victoria-embankment-by-the-thames-9381800.html\n",
    "\n",
    "The article gives these coordinates: 51°30’37.6”N 0°06’56.3”W\n",
    "\n",
    "<iframe src=\"https://www.google.com/maps/embed?pb=!1m17!1m12!1m3!1d2483.151070786313!2d-0.11821918763198132!3d51.51044437169647!2m3!1f0!2f0!3f0!3m2!1i1024!2i768!4f13.1!3m2!1m1!2zNTHCsDMwJzM3LjYiTiAwwrAwNic1Ni4zIlc!5e0!3m2!1sen!2suk!4v1695904951512!5m2!1sen!2suk\" width=\"400\" height=\"300\" style=\"border:0;\" allowfullscreen=\"\" loading=\"lazy\" referrerpolicy=\"no-referrer-when-downgrade\"></iframe>\n",
    "\n",
    "Google Maps has a converter from these northing-westing coordinates to latitude-longitude. We can use this to get the location for the centre of London that we can use throughout our analysis. \n",
    "\n",
    "The lat-long given by Google is 51.510444, -0.115639"
   ]
  },
  {
   "cell_type": "code",
   "execution_count": 16,
   "metadata": {},
   "outputs": [],
   "source": [
    "CENTRE_OF_LONDON = (51.510444, -0.115639)"
   ]
  },
  {
   "cell_type": "markdown",
   "metadata": {},
   "source": [
    "Now we have a central location to measure from we need to write a function that can compute the distance between two coordinate points. \n",
    "\n",
    "Since we are dealing with a globe our calculations would be out if we did a simple pythagorean formula; even though it is over a small region. So, we need to calculate the distance between two points on a globe which requires the haversine formula:\n",
    "\n",
    "- https://www.educative.io/answers/how-to-calculate-distance-using-the-haversine-formula\n",
    "\n",
    "Here is my basic implementaion below:"
   ]
  },
  {
   "cell_type": "code",
   "execution_count": 17,
   "metadata": {},
   "outputs": [],
   "source": [
    "def haversine(point_a, point_b):\n",
    "    # Unpacking Lat and Longs\n",
    "    lat_a, lon_a = point_a\n",
    "    lat_b, lon_b = point_b\n",
    "    R = 6371  # radius of earth in km\n",
    "    lat_delta = math.radians(lat_b - lat_a)\n",
    "    lon_delta = math.radians(lon_b - lon_a)\n",
    "    a = (math.sin(lat_delta / 2) ** 2) + math.cos(math.radians(lat_a)) * math.cos(math.radians(lat_b)) * math.sin(lon_delta / 2) ** 2\n",
    "    c = 2 * math.atan2(math.sqrt(a), math.sqrt(1 - a))\n",
    "    return R * c  # distance in km"
   ]
  },
  {
   "cell_type": "markdown",
   "metadata": {},
   "source": [
    "We can apply this function to our full dataset to compare the distance of each listing to the centre. "
   ]
  },
  {
   "cell_type": "code",
   "execution_count": 18,
   "metadata": {},
   "outputs": [
    {
     "data": {
      "text/html": [
       "<div>\n",
       "<style scoped>\n",
       "    .dataframe tbody tr th:only-of-type {\n",
       "        vertical-align: middle;\n",
       "    }\n",
       "\n",
       "    .dataframe tbody tr th {\n",
       "        vertical-align: top;\n",
       "    }\n",
       "\n",
       "    .dataframe thead th {\n",
       "        text-align: right;\n",
       "    }\n",
       "</style>\n",
       "<table border=\"1\" class=\"dataframe\">\n",
       "  <thead>\n",
       "    <tr style=\"text-align: right;\">\n",
       "      <th></th>\n",
       "      <th>listing_url</th>\n",
       "      <th>latitude</th>\n",
       "      <th>longitude</th>\n",
       "      <th>distance_from_centre_km</th>\n",
       "    </tr>\n",
       "  </thead>\n",
       "  <tbody>\n",
       "    <tr>\n",
       "      <th>0</th>\n",
       "      <td>https://www.airbnb.com/rooms/92644</td>\n",
       "      <td>51.44201</td>\n",
       "      <td>-0.18739</td>\n",
       "      <td>9.088339</td>\n",
       "    </tr>\n",
       "    <tr>\n",
       "      <th>1</th>\n",
       "      <td>https://www.airbnb.com/rooms/93015</td>\n",
       "      <td>51.49993</td>\n",
       "      <td>-0.21707</td>\n",
       "      <td>7.116982</td>\n",
       "    </tr>\n",
       "    <tr>\n",
       "      <th>2</th>\n",
       "      <td>https://www.airbnb.com/rooms/13913</td>\n",
       "      <td>51.56861</td>\n",
       "      <td>-0.11270</td>\n",
       "      <td>6.470957</td>\n",
       "    </tr>\n",
       "    <tr>\n",
       "      <th>3</th>\n",
       "      <td>https://www.airbnb.com/rooms/15400</td>\n",
       "      <td>51.48780</td>\n",
       "      <td>-0.16813</td>\n",
       "      <td>4.420666</td>\n",
       "    </tr>\n",
       "    <tr>\n",
       "      <th>4</th>\n",
       "      <td>https://www.airbnb.com/rooms/93734</td>\n",
       "      <td>51.47618</td>\n",
       "      <td>0.01442</td>\n",
       "      <td>9.776970</td>\n",
       "    </tr>\n",
       "  </tbody>\n",
       "</table>\n",
       "</div>"
      ],
      "text/plain": [
       "                          listing_url  latitude  longitude  \\\n",
       "0  https://www.airbnb.com/rooms/92644  51.44201   -0.18739   \n",
       "1  https://www.airbnb.com/rooms/93015  51.49993   -0.21707   \n",
       "2  https://www.airbnb.com/rooms/13913  51.56861   -0.11270   \n",
       "3  https://www.airbnb.com/rooms/15400  51.48780   -0.16813   \n",
       "4  https://www.airbnb.com/rooms/93734  51.47618    0.01442   \n",
       "\n",
       "   distance_from_centre_km  \n",
       "0                 9.088339  \n",
       "1                 7.116982  \n",
       "2                 6.470957  \n",
       "3                 4.420666  \n",
       "4                 9.776970  "
      ]
     },
     "execution_count": 18,
     "metadata": {},
     "output_type": "execute_result"
    }
   ],
   "source": [
    "listings_df[\"distance_from_centre_km\"] = listings_df[[\"latitude\", \"longitude\"]].apply(\n",
    "    lambda row: haversine(CENTRE_OF_LONDON, (row['latitude'], row['longitude'])), \n",
    "    axis=1\n",
    ")\n",
    "listings_df[[\"listing_url\", \"latitude\", \"longitude\", \"distance_from_centre_km\"]].head()"
   ]
  },
  {
   "cell_type": "markdown",
   "metadata": {},
   "source": [
    "One more interesting thing to add would be distance from centre on the North/South axis and East/West axis. For our purposes, having these in radians is fine as we will only be using them for correlations as opposed to precise mapping."
   ]
  },
  {
   "cell_type": "code",
   "execution_count": 19,
   "metadata": {},
   "outputs": [],
   "source": [
    "listings_df[\"distance_from_centre_N\"] = listings_df[\"latitude\"] - CENTRE_OF_LONDON[0]\n",
    "listings_df[\"distance_from_centre_S\"] = CENTRE_OF_LONDON[0] - listings_df[\"latitude\"]\n",
    "listings_df[\"distance_from_centre_E\"] = listings_df[\"longitude\"] - CENTRE_OF_LONDON[1]\n",
    "listings_df[\"distance_from_centre_W\"] = CENTRE_OF_LONDON[1] - listings_df[\"longitude\"]\n",
    "\n",
    "compass_differences = [\"distance_from_centre_N\", \"distance_from_centre_S\", \"distance_from_centre_E\", \"distance_from_centre_W\"]\n",
    "\n",
    "for col in compass_differences:\n",
    "    listings_df.loc[listings_df[col] < 0, col] = np.NaN\n",
    "    listings_df[col].astype(float).apply(math.radians)"
   ]
  },
  {
   "cell_type": "markdown",
   "metadata": {},
   "source": [
    "We have now added 5 more features to our dataset which will give us more ways to analyse the listings based on their location.\n",
    "\n",
    "<br>\n",
    "\n",
    "#### _Price Per Bedroom_ <a class=\"anchor\" id=\"section-2-3-3\"></a>\n",
    "\n",
    "An AirBnB listing displays the price for renting per night and this is reflected in our dataset. This is misleading as there might be one property with a single bedroom that costs the same as a property with 10 bedrooms. The current price column would suggest that these properties were equivalent but that would realistically be covering up the fact that one could house many more guests. \n",
    "\n",
    "Thus, I will create a new price_per_bed column to create a price feature that is less dependant on number of beds."
   ]
  },
  {
   "cell_type": "code",
   "execution_count": 20,
   "metadata": {},
   "outputs": [
    {
     "data": {
      "text/html": [
       "<div>\n",
       "<style scoped>\n",
       "    .dataframe tbody tr th:only-of-type {\n",
       "        vertical-align: middle;\n",
       "    }\n",
       "\n",
       "    .dataframe tbody tr th {\n",
       "        vertical-align: top;\n",
       "    }\n",
       "\n",
       "    .dataframe thead th {\n",
       "        text-align: right;\n",
       "    }\n",
       "</style>\n",
       "<table border=\"1\" class=\"dataframe\">\n",
       "  <thead>\n",
       "    <tr style=\"text-align: right;\">\n",
       "      <th></th>\n",
       "      <th>price_per_bed</th>\n",
       "      <th>price</th>\n",
       "      <th>beds</th>\n",
       "    </tr>\n",
       "  </thead>\n",
       "  <tbody>\n",
       "    <tr>\n",
       "      <th>0</th>\n",
       "      <td>21.000000</td>\n",
       "      <td>42.0</td>\n",
       "      <td>2.0</td>\n",
       "    </tr>\n",
       "    <tr>\n",
       "      <th>1</th>\n",
       "      <td>58.333333</td>\n",
       "      <td>175.0</td>\n",
       "      <td>3.0</td>\n",
       "    </tr>\n",
       "    <tr>\n",
       "      <th>2</th>\n",
       "      <td>79.000000</td>\n",
       "      <td>79.0</td>\n",
       "      <td>1.0</td>\n",
       "    </tr>\n",
       "    <tr>\n",
       "      <th>3</th>\n",
       "      <td>150.000000</td>\n",
       "      <td>150.0</td>\n",
       "      <td>1.0</td>\n",
       "    </tr>\n",
       "    <tr>\n",
       "      <th>4</th>\n",
       "      <td>46.000000</td>\n",
       "      <td>46.0</td>\n",
       "      <td>1.0</td>\n",
       "    </tr>\n",
       "  </tbody>\n",
       "</table>\n",
       "</div>"
      ],
      "text/plain": [
       "   price_per_bed  price  beds\n",
       "0      21.000000   42.0   2.0\n",
       "1      58.333333  175.0   3.0\n",
       "2      79.000000   79.0   1.0\n",
       "3     150.000000  150.0   1.0\n",
       "4      46.000000   46.0   1.0"
      ]
     },
     "execution_count": 20,
     "metadata": {},
     "output_type": "execute_result"
    }
   ],
   "source": [
    "listings_df[\"price_per_bed\"] = listings_df[\"price\"]/listings_df[\"beds\"]\n",
    "listings_df[[\"price_per_bed\", \"price\", \"beds\"]].head()"
   ]
  },
  {
   "cell_type": "markdown",
   "metadata": {},
   "source": [
    "Now we have a price per night per bed metric which will give a better representation of the price of a listing.\n",
    "\n",
    "#### _Amenities Count_ <a class=\"anchor\" id=\"section-2-3-4\"></a>\n",
    "\n",
    "At the moment the amenities column is hard to gain any meaningful insights from as it's just a list of the names of the amenities on the listing. We can use string splitting to give us another numerical column with the number of listings that can be used for the correlation heatmap. "
   ]
  },
  {
   "cell_type": "code",
   "execution_count": 21,
   "metadata": {},
   "outputs": [
    {
     "data": {
      "text/html": [
       "<div>\n",
       "<style scoped>\n",
       "    .dataframe tbody tr th:only-of-type {\n",
       "        vertical-align: middle;\n",
       "    }\n",
       "\n",
       "    .dataframe tbody tr th {\n",
       "        vertical-align: top;\n",
       "    }\n",
       "\n",
       "    .dataframe thead th {\n",
       "        text-align: right;\n",
       "    }\n",
       "</style>\n",
       "<table border=\"1\" class=\"dataframe\">\n",
       "  <thead>\n",
       "    <tr style=\"text-align: right;\">\n",
       "      <th></th>\n",
       "      <th>listing_url</th>\n",
       "      <th>amenities</th>\n",
       "      <th>amenities_count</th>\n",
       "    </tr>\n",
       "  </thead>\n",
       "  <tbody>\n",
       "    <tr>\n",
       "      <th>0</th>\n",
       "      <td>https://www.airbnb.com/rooms/92644</td>\n",
       "      <td>[\"Heating\", \"TV with standard cable\", \"Wifi\", \"Smoke alarm\", \"Dryer\", \"Kitchen\", \"Washer\", \"Essentials\"]</td>\n",
       "      <td>8</td>\n",
       "    </tr>\n",
       "    <tr>\n",
       "      <th>1</th>\n",
       "      <td>https://www.airbnb.com/rooms/93015</td>\n",
       "      <td>[\"Window guards\", \"Bathtub\", \"Hot water kettle\", \"Laundromat nearby\", \"Indoor fireplace\", \"Microwave\", \"Coffee maker\", \"Self check-in\", \"Dining table\", \"Bed linens\", \"Books and reading material\", \"Cleaning available during stay\", \"Clothing storage: closet and dresser\", \"Coffee\", \"Hot water\", \"Ir...</td>\n",
       "      <td>48</td>\n",
       "    </tr>\n",
       "    <tr>\n",
       "      <th>2</th>\n",
       "      <td>https://www.airbnb.com/rooms/13913</td>\n",
       "      <td>[\"Bathtub\", \"Hot water kettle\", \"Laundromat nearby\", \"Private patio or balcony\", \"Paid street parking off premises\", \"Shampoo\", \"Free washer \\u2013 In unit\", \"Luggage dropoff allowed\", \"Coffee maker\", \"Self check-in\", \"Dining table\", \"Bed linens\", \"Books and reading material\", \"Blender\", \"Coffee...</td>\n",
       "      <td>55</td>\n",
       "    </tr>\n",
       "    <tr>\n",
       "      <th>3</th>\n",
       "      <td>https://www.airbnb.com/rooms/15400</td>\n",
       "      <td>[\"Shampoo\", \"Luggage dropoff allowed\", \"Dryer\", \"Microwave\", \"Coffee maker\", \"Hot water\", \"Iron\", \"Host greets you\", \"Washer\", \"Fire extinguisher\", \"Cooking basics\", \"Heating\", \"TV with standard cable\", \"Refrigerator\", \"Hair dryer\", \"Essentials\", \"Long term stays allowed\", \"Carbon monoxide alarm...</td>\n",
       "      <td>25</td>\n",
       "    </tr>\n",
       "    <tr>\n",
       "      <th>4</th>\n",
       "      <td>https://www.airbnb.com/rooms/93734</td>\n",
       "      <td>[\"Window guards\", \"Bathtub\", \"Hot water kettle\", \"Laundromat nearby\", \"Free driveway parking on premises \\u2013 2 spaces\", \"Private patio or balcony\", \"Free washer \\u2013 In unit\", \"Whirlpool stainless steel gas stove\", \"Luggage dropoff allowed\", \"Microwave\", \"Bed linens\", \"Clothing storage: clo...</td>\n",
       "      <td>46</td>\n",
       "    </tr>\n",
       "  </tbody>\n",
       "</table>\n",
       "</div>"
      ],
      "text/plain": [
       "                          listing_url  \\\n",
       "0  https://www.airbnb.com/rooms/92644   \n",
       "1  https://www.airbnb.com/rooms/93015   \n",
       "2  https://www.airbnb.com/rooms/13913   \n",
       "3  https://www.airbnb.com/rooms/15400   \n",
       "4  https://www.airbnb.com/rooms/93734   \n",
       "\n",
       "                                                                                                                                                                                                                                                                                                     amenities  \\\n",
       "0                                                                                                                                                                                                     [\"Heating\", \"TV with standard cable\", \"Wifi\", \"Smoke alarm\", \"Dryer\", \"Kitchen\", \"Washer\", \"Essentials\"]   \n",
       "1  [\"Window guards\", \"Bathtub\", \"Hot water kettle\", \"Laundromat nearby\", \"Indoor fireplace\", \"Microwave\", \"Coffee maker\", \"Self check-in\", \"Dining table\", \"Bed linens\", \"Books and reading material\", \"Cleaning available during stay\", \"Clothing storage: closet and dresser\", \"Coffee\", \"Hot water\", \"Ir...   \n",
       "2  [\"Bathtub\", \"Hot water kettle\", \"Laundromat nearby\", \"Private patio or balcony\", \"Paid street parking off premises\", \"Shampoo\", \"Free washer \\u2013 In unit\", \"Luggage dropoff allowed\", \"Coffee maker\", \"Self check-in\", \"Dining table\", \"Bed linens\", \"Books and reading material\", \"Blender\", \"Coffee...   \n",
       "3  [\"Shampoo\", \"Luggage dropoff allowed\", \"Dryer\", \"Microwave\", \"Coffee maker\", \"Hot water\", \"Iron\", \"Host greets you\", \"Washer\", \"Fire extinguisher\", \"Cooking basics\", \"Heating\", \"TV with standard cable\", \"Refrigerator\", \"Hair dryer\", \"Essentials\", \"Long term stays allowed\", \"Carbon monoxide alarm...   \n",
       "4  [\"Window guards\", \"Bathtub\", \"Hot water kettle\", \"Laundromat nearby\", \"Free driveway parking on premises \\u2013 2 spaces\", \"Private patio or balcony\", \"Free washer \\u2013 In unit\", \"Whirlpool stainless steel gas stove\", \"Luggage dropoff allowed\", \"Microwave\", \"Bed linens\", \"Clothing storage: clo...   \n",
       "\n",
       "   amenities_count  \n",
       "0                8  \n",
       "1               48  \n",
       "2               55  \n",
       "3               25  \n",
       "4               46  "
      ]
     },
     "metadata": {},
     "output_type": "display_data"
    }
   ],
   "source": [
    "listings_df[\"amenities_count\"] = listings_df[\"amenities\"].apply(lambda x: len(list(x.split(\", \"))))\n",
    "\n",
    "pd.options.display.max_colwidth = 300\n",
    "display(listings_df[[\"listing_url\", \"amenities\", \"amenities_count\"]].head())\n",
    "pd.reset_option('display.max_colwidth')"
   ]
  },
  {
   "cell_type": "markdown",
   "metadata": {},
   "source": [
    "#### _Room Type to Entire Property_ <a class=\"anchor\" id=\"section-2-3-5\"></a>\n",
    "\n",
    "Doing some further checks on room type can allow us to infer another boolean field: Whether the listing is for the entire property or not."
   ]
  },
  {
   "cell_type": "code",
   "execution_count": 22,
   "metadata": {},
   "outputs": [
    {
     "data": {
      "text/plain": [
       "Entire home/apt    54575\n",
       "Private room       32711\n",
       "Shared room          441\n",
       "Hotel room           219\n",
       "Name: room_type, dtype: int64"
      ]
     },
     "execution_count": 22,
     "metadata": {},
     "output_type": "execute_result"
    }
   ],
   "source": [
    "listings_df[\"room_type\"].value_counts()"
   ]
  },
  {
   "cell_type": "markdown",
   "metadata": {},
   "source": [
    "Examining these room types it's easy to see that a Property is either an Entire Property or some type of single room, either a room, shared room or hotel room. It will be interesting to turn this into a numerical representation."
   ]
  },
  {
   "cell_type": "code",
   "execution_count": 23,
   "metadata": {},
   "outputs": [
    {
     "data": {
      "text/html": [
       "<div>\n",
       "<style scoped>\n",
       "    .dataframe tbody tr th:only-of-type {\n",
       "        vertical-align: middle;\n",
       "    }\n",
       "\n",
       "    .dataframe tbody tr th {\n",
       "        vertical-align: top;\n",
       "    }\n",
       "\n",
       "    .dataframe thead th {\n",
       "        text-align: right;\n",
       "    }\n",
       "</style>\n",
       "<table border=\"1\" class=\"dataframe\">\n",
       "  <thead>\n",
       "    <tr style=\"text-align: right;\">\n",
       "      <th></th>\n",
       "      <th>listing_url</th>\n",
       "      <th>entire_property</th>\n",
       "    </tr>\n",
       "  </thead>\n",
       "  <tbody>\n",
       "    <tr>\n",
       "      <th>0</th>\n",
       "      <td>https://www.airbnb.com/rooms/92644</td>\n",
       "      <td>0.0</td>\n",
       "    </tr>\n",
       "    <tr>\n",
       "      <th>1</th>\n",
       "      <td>https://www.airbnb.com/rooms/93015</td>\n",
       "      <td>1.0</td>\n",
       "    </tr>\n",
       "    <tr>\n",
       "      <th>2</th>\n",
       "      <td>https://www.airbnb.com/rooms/13913</td>\n",
       "      <td>0.0</td>\n",
       "    </tr>\n",
       "    <tr>\n",
       "      <th>3</th>\n",
       "      <td>https://www.airbnb.com/rooms/15400</td>\n",
       "      <td>1.0</td>\n",
       "    </tr>\n",
       "    <tr>\n",
       "      <th>4</th>\n",
       "      <td>https://www.airbnb.com/rooms/93734</td>\n",
       "      <td>0.0</td>\n",
       "    </tr>\n",
       "  </tbody>\n",
       "</table>\n",
       "</div>"
      ],
      "text/plain": [
       "                          listing_url  entire_property\n",
       "0  https://www.airbnb.com/rooms/92644              0.0\n",
       "1  https://www.airbnb.com/rooms/93015              1.0\n",
       "2  https://www.airbnb.com/rooms/13913              0.0\n",
       "3  https://www.airbnb.com/rooms/15400              1.0\n",
       "4  https://www.airbnb.com/rooms/93734              0.0"
      ]
     },
     "execution_count": 23,
     "metadata": {},
     "output_type": "execute_result"
    }
   ],
   "source": [
    "listings_df.loc[listings_df[\"room_type\"] ==  \"Entire home/apt\", \"entire_property\"] = 1.0\n",
    "listings_df[\"entire_property\"] = listings_df[\"entire_property\"].fillna(0.0)\n",
    "listings_df[[\"listing_url\", \"entire_property\"]].head()"
   ]
  },
  {
   "cell_type": "markdown",
   "metadata": {},
   "source": [
    "Now we have a boolean field that tells us if a listing is for a full property or just a single room. \n",
    "\n",
    "<br>\n",
    "\n",
    "## Data Analysis <a class=\"anchor\" id=\"section-2-4\"></a>\n",
    "\n",
    "#### _Numerical Outliers_ <a class=\"anchor\" id=\"section-2-4-1\"></a>\n",
    "\n",
    "For AirBnB listings there are three main buckets of values:\n",
    "\n",
    "1. AirBnB calculated values such as: host response time, response rate and review_scores\n",
    "2. User selected value such as: location which you would choose on a map or property type where you might \n",
    "select from a list. \n",
    "3. User input data such as: number of beds and price\n",
    "\n",
    "The third category is by far the most ripe for miss-entered data so those fields will be the focus of our outlier investigation.\n"
   ]
  },
  {
   "cell_type": "code",
   "execution_count": 24,
   "metadata": {},
   "outputs": [
    {
     "data": {
      "text/html": [
       "<div>\n",
       "<style scoped>\n",
       "    .dataframe tbody tr th:only-of-type {\n",
       "        vertical-align: middle;\n",
       "    }\n",
       "\n",
       "    .dataframe tbody tr th {\n",
       "        vertical-align: top;\n",
       "    }\n",
       "\n",
       "    .dataframe thead th {\n",
       "        text-align: right;\n",
       "    }\n",
       "</style>\n",
       "<table border=\"1\" class=\"dataframe\">\n",
       "  <thead>\n",
       "    <tr style=\"text-align: right;\">\n",
       "      <th></th>\n",
       "      <th>price_per_bed</th>\n",
       "      <th>beds</th>\n",
       "    </tr>\n",
       "  </thead>\n",
       "  <tbody>\n",
       "    <tr>\n",
       "      <th>count</th>\n",
       "      <td>86812.000000</td>\n",
       "      <td>86812.000000</td>\n",
       "    </tr>\n",
       "    <tr>\n",
       "      <th>mean</th>\n",
       "      <td>112.076350</td>\n",
       "      <td>1.803771</td>\n",
       "    </tr>\n",
       "    <tr>\n",
       "      <th>std</th>\n",
       "      <td>404.725954</td>\n",
       "      <td>1.276012</td>\n",
       "    </tr>\n",
       "    <tr>\n",
       "      <th>min</th>\n",
       "      <td>0.000000</td>\n",
       "      <td>1.000000</td>\n",
       "    </tr>\n",
       "    <tr>\n",
       "      <th>25%</th>\n",
       "      <td>46.333333</td>\n",
       "      <td>1.000000</td>\n",
       "    </tr>\n",
       "    <tr>\n",
       "      <th>50%</th>\n",
       "      <td>71.000000</td>\n",
       "      <td>1.000000</td>\n",
       "    </tr>\n",
       "    <tr>\n",
       "      <th>75%</th>\n",
       "      <td>112.000000</td>\n",
       "      <td>2.000000</td>\n",
       "    </tr>\n",
       "    <tr>\n",
       "      <th>max</th>\n",
       "      <td>80100.000000</td>\n",
       "      <td>50.000000</td>\n",
       "    </tr>\n",
       "  </tbody>\n",
       "</table>\n",
       "</div>"
      ],
      "text/plain": [
       "       price_per_bed          beds\n",
       "count   86812.000000  86812.000000\n",
       "mean      112.076350      1.803771\n",
       "std       404.725954      1.276012\n",
       "min         0.000000      1.000000\n",
       "25%        46.333333      1.000000\n",
       "50%        71.000000      1.000000\n",
       "75%       112.000000      2.000000\n",
       "max     80100.000000     50.000000"
      ]
     },
     "execution_count": 24,
     "metadata": {},
     "output_type": "execute_result"
    }
   ],
   "source": [
    "listings_df[[\"price_per_bed\", \"beds\"]].describe()"
   ]
  },
  {
   "cell_type": "markdown",
   "metadata": {},
   "source": [
    "Looking at the max compared to the upper quartile (75%) there are clearly some huge outliers for both metrics. I'm now going to assign these the mean and standard deviation for both values to variables to use for plotting and removal of outliers."
   ]
  },
  {
   "cell_type": "code",
   "execution_count": 25,
   "metadata": {},
   "outputs": [],
   "source": [
    "price_std = listings_df[\"price_per_bed\"].std()\n",
    "price_mean = listings_df[\"price_per_bed\"].mean()\n",
    "\n",
    "beds_std = listings_df[\"beds\"].std()\n",
    "beds_mean = listings_df[\"beds\"].mean()"
   ]
  },
  {
   "cell_type": "markdown",
   "metadata": {},
   "source": [
    "Next, since I plan on plotting these values a few times, I will write a general function that will build a scatter plot of the given dataframe, column, standard deviation and mean. It will also draw lines for the mean and then one for each number of standard deviations above the mean provided in a list (defaulted to just drawing 1 line for 2 std above the mean)."
   ]
  },
  {
   "cell_type": "code",
   "execution_count": 26,
   "metadata": {},
   "outputs": [],
   "source": [
    "def scatter_plot_for_outliers(df, column, mean, std, stds_above_mean=[2]):\n",
    "    plt.scatter(df.index, df[column], c=\"lightblue\", marker=\"o\", label=\"Data Points\")\n",
    "    plt.axhline(mean, color=\"red\", linestyle=\"dashed\", label=\"Mean\")\n",
    "    for x in stds_above_mean:\n",
    "        plt.axhline(mean + x * std, color=\"darkgreen\", linestyle=\"dashed\", label=f\"Mean + {x} Std Dev\")\n",
    "    plt.title(f\"Scatter Plot of {column}\")\n",
    "    plt.xlabel(\"Index\")\n",
    "    plt.ylabel(column)\n",
    "    plt.legend()"
   ]
  },
  {
   "cell_type": "markdown",
   "metadata": {},
   "source": [
    "Now we can make use of this function to plot the values of price_per_bed and number of beds."
   ]
  },
  {
   "cell_type": "code",
   "execution_count": 27,
   "metadata": {},
   "outputs": [
    {
     "data": {
      "image/png": "[encoded data removed]",
      "text/plain": [
       "<Figure size 1200x600 with 2 Axes>"
      ]
     },
     "metadata": {},
     "output_type": "display_data"
    }
   ],
   "source": [
    "plt.figure(figsize=(12, 6))\n",
    "\n",
    "plt.subplot(1, 2, 1)\n",
    "scatter_plot_for_outliers(listings_df, \"price_per_bed\", price_mean, price_std)\n",
    "\n",
    "plt.subplot(1, 2, 2)\n",
    "scatter_plot_for_outliers(listings_df, \"beds\", beds_mean, beds_std)\n",
    "\n",
    "plt.tight_layout()\n",
    "plt.show()"
   ]
  },
  {
   "cell_type": "markdown",
   "metadata": {},
   "source": [
    "Looking at this price_per_bed is very hard to read due to huge outliers at the 80k mark and 50k mark. I will adjust the dataframe to view it more clearly by removing anything 10 standard deviations above the mean. \n",
    "\n",
    "Also for both beds and price I would like to show a few more standard deviations above the mean to see where a reasonable cut-off should be."
   ]
  },
  {
   "cell_type": "code",
   "execution_count": 28,
   "metadata": {},
   "outputs": [],
   "source": [
    "listings_df_no_price_outliers = listings_df[listings_df[\"price_per_bed\"] < (price_mean + 10*price_std)][[\"listing_url\", \"price_per_bed\"]]\n",
    "listings_df_no_beds_outliers = listings_df[listings_df[\"beds\"] < (beds_mean + 10*beds_std)][[\"listing_url\", \"beds\"]]"
   ]
  },
  {
   "cell_type": "code",
   "execution_count": 29,
   "metadata": {},
   "outputs": [
    {
     "data": {
      "image/png": "[encoded data removed]",
      "text/plain": [
       "<Figure size 1200x600 with 2 Axes>"
      ]
     },
     "metadata": {},
     "output_type": "display_data"
    }
   ],
   "source": [
    "plt.figure(figsize=(12, 6))\n",
    "\n",
    "plt.subplot(1, 2, 1)\n",
    "scatter_plot_for_outliers(listings_df_no_price_outliers, \"price_per_bed\", price_mean, price_std, stds_above_mean=[2, 3, 4, 5])\n",
    "\n",
    "plt.subplot(1, 2, 2)\n",
    "scatter_plot_for_outliers(listings_df_no_beds_outliers, \"beds\", beds_mean, beds_std, stds_above_mean=[2, 3, 4, 5])\n",
    "\n",
    "plt.tight_layout()\n",
    "plt.show()"
   ]
  },
  {
   "cell_type": "markdown",
   "metadata": {},
   "source": [
    "Reviewing the above I think that the price_per_bed metric can be filtered by 2 standard deviations above the mean. For beds it is tricky due to the discrete nature of the distribution but based on this analysis I don't think it's unreasonable to remove records that are outside of 3 standard deviations above the mean. \n",
    "\n",
    "Note since the distribution has no outliers below the mean I'm only looking at extremes on one tail."
   ]
  },
  {
   "cell_type": "code",
   "execution_count": 30,
   "metadata": {},
   "outputs": [
    {
     "data": {
      "text/html": [
       "<div>\n",
       "<style scoped>\n",
       "    .dataframe tbody tr th:only-of-type {\n",
       "        vertical-align: middle;\n",
       "    }\n",
       "\n",
       "    .dataframe tbody tr th {\n",
       "        vertical-align: top;\n",
       "    }\n",
       "\n",
       "    .dataframe thead th {\n",
       "        text-align: right;\n",
       "    }\n",
       "</style>\n",
       "<table border=\"1\" class=\"dataframe\">\n",
       "  <thead>\n",
       "    <tr style=\"text-align: right;\">\n",
       "      <th></th>\n",
       "      <th>price_per_bed</th>\n",
       "      <th>beds</th>\n",
       "    </tr>\n",
       "  </thead>\n",
       "  <tbody>\n",
       "    <tr>\n",
       "      <th>count</th>\n",
       "      <td>83519.000000</td>\n",
       "      <td>83519.000000</td>\n",
       "    </tr>\n",
       "    <tr>\n",
       "      <th>mean</th>\n",
       "      <td>89.468121</td>\n",
       "      <td>1.698117</td>\n",
       "    </tr>\n",
       "    <tr>\n",
       "      <th>std</th>\n",
       "      <td>70.091082</td>\n",
       "      <td>0.978269</td>\n",
       "    </tr>\n",
       "    <tr>\n",
       "      <th>min</th>\n",
       "      <td>0.000000</td>\n",
       "      <td>1.000000</td>\n",
       "    </tr>\n",
       "    <tr>\n",
       "      <th>25%</th>\n",
       "      <td>46.333333</td>\n",
       "      <td>1.000000</td>\n",
       "    </tr>\n",
       "    <tr>\n",
       "      <th>50%</th>\n",
       "      <td>70.000000</td>\n",
       "      <td>1.000000</td>\n",
       "    </tr>\n",
       "    <tr>\n",
       "      <th>75%</th>\n",
       "      <td>109.000000</td>\n",
       "      <td>2.000000</td>\n",
       "    </tr>\n",
       "    <tr>\n",
       "      <th>max</th>\n",
       "      <td>916.000000</td>\n",
       "      <td>5.000000</td>\n",
       "    </tr>\n",
       "  </tbody>\n",
       "</table>\n",
       "</div>"
      ],
      "text/plain": [
       "       price_per_bed          beds\n",
       "count   83519.000000  83519.000000\n",
       "mean       89.468121      1.698117\n",
       "std        70.091082      0.978269\n",
       "min         0.000000      1.000000\n",
       "25%        46.333333      1.000000\n",
       "50%        70.000000      1.000000\n",
       "75%       109.000000      2.000000\n",
       "max       916.000000      5.000000"
      ]
     },
     "execution_count": 30,
     "metadata": {},
     "output_type": "execute_result"
    }
   ],
   "source": [
    "listings_df = listings_df[(listings_df[\"beds\"] <= (beds_mean + 3*beds_std)) & (listings_df[\"price\"] < (price_mean + 2*price_std))]\n",
    "listings_df[[\"price_per_bed\", \"beds\"]].describe()"
   ]
  },
  {
   "cell_type": "markdown",
   "metadata": {},
   "source": [
    "Looking at the new values in the dataframe I am happy with the removal of outliers. Anything over £916 per bed per night I would view as an outlier and anything in London over 5 beds seems like it would also be a big outlier. I even think this is being conservative with the value we are willing to remove.\n",
    "\n",
    "Now these values are removed we can continue with our analysis."
   ]
  },
  {
   "cell_type": "markdown",
   "metadata": {},
   "source": [
    "#### _Word Count Outliers_ <a class=\"anchor\" id=\"section-2-4-2\"></a>\n",
    "\n",
    "Our third objective is to create word clouds that demonstrate how descriptions change across properties"
   ]
  },
  {
   "cell_type": "code",
   "execution_count": 31,
   "metadata": {},
   "outputs": [],
   "source": [
    "all_descriptions = \" \".join(listings_df[\"description\"].fillna(\"\"))\n",
    "\n",
    "translator = str.maketrans(\"\", \"\", string.punctuation)\n",
    "all_descriptions = all_descriptions.lower()\n",
    "all_descriptions = all_descriptions.translate(translator)\n",
    "\n",
    "words = all_descriptions.split()\n",
    "\n",
    "word_counts = Counter(words)\n",
    "top_words = word_counts.most_common(50)\n",
    "top_words, counts = zip(*top_words)\n",
    "\n",
    "plt.figure(figsize=(24, 5))\n",
    "plt.bar(top_words, counts)\n",
    "plt.title(\"Top 50 Most Common Words in Description\")\n",
    "plt.xlabel(\"Words\")\n",
    "plt.ylabel(\"Frequency\")\n",
    "plt.xticks(rotation=45)\n",
    "plt.xlim(-0.5, len(top_words) - 0.5)\n",
    "plt.show()"
   ]
  },
  {
   "cell_type": "markdown",
   "metadata": {},
   "source": [
    "Seeing this visualisation it is clear that there are actually no huge outliers. The only outliers are the most frequently used words in English such as and, of, the, a, etc. \n",
    "\n",
    "The WordCount packaged filters these out anyway so nothing much we can do here.\n",
    "\n",
    "The only unusual part of this data is the \"br\" word that is in the descriptions as a line break character. I will remove this when it comes time to create the word clouds.\n",
    "\n",
    "<br>\n",
    "\n",
    "#### _Borough Aggregation_ <a class=\"anchor\" id=\"section-2-4-3\"></a>\n",
    "\n",
    "With a clean dataset and plenty of numerical values to aggregate by, it's time to bring in the borough geopandas dataset."
   ]
  },
  {
   "cell_type": "code",
   "execution_count": null,
   "metadata": {},
   "outputs": [],
   "source": [
    "boroughs_geo = geopandas.read_file(\"boroughs.geojson\")\n",
    "boroughs_geo.head()"
   ]
  },
  {
   "cell_type": "markdown",
   "metadata": {},
   "source": [
    "We can enhance this dataset by preparing various aggregations from the listings_df. \n",
    "\n",
    "I am going to add the following:\n",
    "- Total listing count per borough\n",
    "- Average listing price per borough\n",
    "- Average listing review per borough\n",
    "\n",
    "These can be used for displaying in our visualisations.\n",
    "\n",
    "Starting with count."
   ]
  },
  {
   "cell_type": "code",
   "execution_count": null,
   "metadata": {},
   "outputs": [],
   "source": [
    "counts = listings_df[\"neighbourhood_cleansed\"].value_counts().reset_index()\n",
    "counts = counts.rename(columns={\"neighbourhood_cleansed\": \"listing_count\", \"index\": \"neighbourhood\"})\n",
    "boroughs_geo = boroughs_geo.merge(counts, how=\"left\", on=\"neighbourhood\")\n",
    "boroughs_geo.head()"
   ]
  },
  {
   "cell_type": "markdown",
   "metadata": {},
   "source": [
    "Average Price"
   ]
  },
  {
   "cell_type": "code",
   "execution_count": null,
   "metadata": {},
   "outputs": [],
   "source": [
    "grouped_mean_price = listings_df[[\"neighbourhood_cleansed\", \"price_per_bed\"]].groupby(\"neighbourhood_cleansed\").mean().reset_index()\n",
    "grouped_mean_price = grouped_mean_price.rename(columns={\"neighbourhood_cleansed\": \"neighbourhood\", \"price_per_bed\": \"avg_price_per_bed\"})\n",
    "boroughs_geo = boroughs_geo.merge(grouped_mean_price, how=\"left\", on=\"neighbourhood\")\n",
    "boroughs_geo.head()"
   ]
  },
  {
   "cell_type": "markdown",
   "metadata": {},
   "source": [
    "Average Review Score"
   ]
  },
  {
   "cell_type": "code",
   "execution_count": null,
   "metadata": {},
   "outputs": [],
   "source": [
    "grouped_mean_rating = listings_df[[\"neighbourhood_cleansed\", \"review_scores_rating\"]].groupby(\"neighbourhood_cleansed\").mean().reset_index()\n",
    "grouped_mean_rating = grouped_mean_rating.rename(columns={\"neighbourhood_cleansed\": \"neighbourhood\", \"review_scores_rating\": \"avg_review_score_rating\"})\n",
    "boroughs_geo = boroughs_geo.merge(grouped_mean_rating, how=\"left\", on=\"neighbourhood\")\n",
    "boroughs_geo.head()"
   ]
  },
  {
   "cell_type": "markdown",
   "metadata": {},
   "source": [
    "As demonstrated with the above Dataframe we now have the following aggregations for each borough: \n",
    "- Count of the listings in the borough\n",
    "- The average price per bed in that borough\n",
    "- The average overall review score in that borough"
   ]
  },
  {
   "cell_type": "markdown",
   "metadata": {},
   "source": [
    "## Preparing Visualisations <a class=\"anchor\" id=\"section-2-5\"></a>\n",
    "\n",
    "In this section I will build the functions that we will call in the Visualisation section of the project. At the end of this function we will have:\n",
    "- A function that produces sorted heatmaps for numerical factors and their correlation with price and review score.\n",
    "- A function that produces a map of London with the borough outlines and a colour gradient demonstrating the aggregation scores of count, price and rating.\n",
    "- A function that draws concentric circles on a map of London showing how changes occur as you move away from the centre.\n",
    "- A function that creates a word cloud given a Dataframe and a text column."
   ]
  },
  {
   "cell_type": "markdown",
   "metadata": {},
   "source": [
    "#### _Sorted Correlation Heatmaps (Objective 1)_ <a class=\"anchor\" id=\"section-2-5-1\"></a>\n",
    "\n",
    "For our first visualisation we need a function that creates the desired heatmaps."
   ]
  },
  {
   "cell_type": "code",
   "execution_count": null,
   "metadata": {},
   "outputs": [],
   "source": [
    "def sorted_correlation_heatmap(input_df, column):\n",
    "    df = input_df.corr(numeric_only=True)[[column]].sort_values(column)\n",
    "    return df.style.background_gradient(cmap='coolwarm')"
   ]
  },
  {
   "cell_type": "markdown",
   "metadata": {},
   "source": [
    "Also, I would like to display them side by side so some HTML magic is required. "
   ]
  },
  {
   "cell_type": "code",
   "execution_count": null,
   "metadata": {},
   "outputs": [],
   "source": [
    "def side_by_side(*dfs):\n",
    "    html = '<div style=\"display:flex\">'\n",
    "    for df in dfs:\n",
    "        html += '<div style=\"margin-right: 4em\">'\n",
    "        html += df.to_html()\n",
    "        html += '</div>'\n",
    "    html += '</div>'\n",
    "    display(HTML(html))"
   ]
  },
  {
   "cell_type": "markdown",
   "metadata": {},
   "source": [
    "#### _Mapping with Style (Objective 2)_ <a class=\"anchor\" id=\"section-2-5-2\"></a>\n",
    "\n",
    "In order to correctly display the boroughs on a map, in a way that is visually insightful. I need to create a style function for each."
   ]
  },
  {
   "cell_type": "code",
   "execution_count": null,
   "metadata": {},
   "outputs": [],
   "source": [
    "def style_fn(feature, parameters):\n",
    "    column = parameters[\"column\"]\n",
    "    fill_colour = parameters[\"fill\"]\n",
    "    if feature[\"properties\"][column]:\n",
    "        if feature[\"properties\"][column] >= boroughs_geo[column].quantile(0.9):\n",
    "            opacity = 0.9\n",
    "        elif feature[\"properties\"][column] >= boroughs_geo[column].quantile(0.7):\n",
    "            opacity = 0.7\n",
    "        elif feature[\"properties\"][column] > boroughs_geo[column].quantile(0.5):\n",
    "            opacity = 0.5\n",
    "        elif feature[\"properties\"][column] > boroughs_geo[column].quantile(0.3):\n",
    "            opacity = 0.3\n",
    "        else:\n",
    "            opacity = 0.1\n",
    "    else:\n",
    "        fill_colour = \"grey\"\n",
    "        opacity = 0.5\n",
    "\n",
    "    ss = {\n",
    "        \"fillColor\": fill_colour,\n",
    "        \"fillOpacity\": opacity,\n",
    "        \"weight\": 0.8,\n",
    "        \"color\": \"white\"\n",
    "    }\n",
    "    return ss"
   ]
  },
  {
   "cell_type": "markdown",
   "metadata": {},
   "source": [
    "The function will take the aggregated column (e.g. listings_count) as an input and set the opacity of the fill for that borough. Resulting in boroughs with a higher density of properties showing with a stronger colour.\n",
    "\n",
    "Now we need a way to display this. So, I will write a function that produces a map from the provided aggregation column and borough that uses the style function."
   ]
  },
  {
   "cell_type": "code",
   "execution_count": null,
   "metadata": {},
   "outputs": [],
   "source": [
    "def map_borough_aggregation_column(column, fill_colour):\n",
    "    map = folium.Map(location=CENTRE_OF_LONDON, zoom_start=10)\n",
    "    style_fn_column = functools.partial(style_fn, parameters={\"column\": column, \"fill\": fill_colour})\n",
    "\n",
    "    folium.GeoJson(\n",
    "        data=boroughs_geo,\n",
    "        style_function=style_fn_column,\n",
    "        tooltip=folium.features.GeoJsonTooltip([\"neighbourhood\", column]),\n",
    "    ).add_to(map)\n",
    "    return map"
   ]
  },
  {
   "cell_type": "markdown",
   "metadata": {},
   "source": [
    "This function should now allow us to create a visualisation of the boroughs across London for one of the aggregation columns I created in the Analysis section. We will call this once for each of count, price average and review score average."
   ]
  },
  {
   "cell_type": "markdown",
   "metadata": {},
   "source": [
    "#### _Concentric Circles (Objective 2)_ <a class=\"anchor\" id=\"section-2-5-3\"></a>\n",
    "\n",
    "The distance metric we have created in the Data Enhancement section can be used to bring the data to life in a plot. However, creating a vivid picture of the data is an interesting challenge. \n",
    "\n",
    "The first instinct would be to create radial bands which we could use to calculated how averages and aggregates change as you move away from the centre. However, were we just to count bands such as:\n",
    "\n",
    "\\begin{align*}\n",
    "    0-2km \\\\\n",
    "    2-4km \\\\\n",
    "    4-6km \\\\\n",
    "    8-10km\n",
    "\\end{align*}\n",
    "\n",
    "Comparing the distance in total area covered in these bands demonstrates the issue. The formula for the area of a circle is:\n",
    "\n",
    "\\begin{align*}\n",
    "  A &= πr^2\\\\\n",
    "\\end{align*}\n",
    "\n",
    "To find the area of one of the bands we need to calculate the area of a circle with a radius equal to the outer edge of the band and subtract the area of the radius of the inner edge of the band. \n",
    "\n",
    "\\begin{align*}\n",
    "  Area(Band) &= Area(Outer) - Area(Inner)\\\\\n",
    "  e.g \\: Area(8-10km) &= (π10^2 - π8^2)\\\\\n",
    "\\end{align*}\n",
    "\n",
    "We can demonstrate this with some code:"
   ]
  },
  {
   "cell_type": "code",
   "execution_count": null,
   "metadata": {},
   "outputs": [],
   "source": [
    "def circle_area(radius):\n",
    "    return math.pi*(radius**2)\n",
    "\n",
    "print(f\"Area(Band 2-4km): {circle_area(4) - circle_area(2)}\")\n",
    "print(f\"Area(Band 8-10km): {circle_area(10) - circle_area(8)}\")"
   ]
  },
  {
   "cell_type": "markdown",
   "metadata": {},
   "source": [
    "So, by the above result we can see that creating bands of equal width would bias the results towards the larger bands as they would be covering a larger area.\n",
    "\n",
    "The solution here is to reverse the area formula so that we can input a desired area and return the radius of that circle. \n",
    "\n",
    "\\begin{align*}\n",
    "  A &= πr^2\\\\\n",
    "  r &= \\sqrt{A/π} \\\\\n",
    "\\end{align*}"
   ]
  },
  {
   "cell_type": "code",
   "execution_count": null,
   "metadata": {},
   "outputs": [],
   "source": [
    "def circle_radius_from_area(area):\n",
    "    return (area / math.pi) ** 0.5"
   ]
  },
  {
   "cell_type": "markdown",
   "metadata": {},
   "source": [
    "With this function we can set a desired area, for example 100. Then we can set the first circle equal to circle_radius_from_area(100). Then to get the next band up we just need to rearrange the following:\n",
    "\n",
    "\\begin{align*}\n",
    "  Area(Band) - 100 = 100 \\\\\n",
    "  Area(Band) = 200\n",
    "\\end{align*}\n",
    "\n",
    "So, to get the outer radius of the next band we just need circle_radius_from_area(200) and for the one after that it would be circle_radius_from_area(300). \n",
    "\n",
    "To generalise this we could say that to get the next radius up would always be __circle_radius_from_area(Area*i)__. We can demonstrate this with the below code cell."
   ]
  },
  {
   "cell_type": "code",
   "execution_count": null,
   "metadata": {},
   "outputs": [],
   "source": [
    "A = 100\n",
    "number_of_bands = 3\n",
    "for i in range(number_of_bands):\n",
    "    inner_radius = circle_radius_from_area(A*i)\n",
    "    outer_radius = circle_radius_from_area(A*(i+1))\n",
    "    band_area = circle_area(outer_radius) - circle_area(inner_radius)\n",
    "    print(f\"Band {(i+1)}: {round(inner_radius, 3)}-{round(outer_radius, 3)}km, Area: {round(band_area)}\")"
   ]
  },
  {
   "cell_type": "markdown",
   "metadata": {},
   "source": [
    "Now that we have this logic it will be easy to draw these bands on a map and calculate aggregates and averages between them."
   ]
  },
  {
   "cell_type": "markdown",
   "metadata": {},
   "source": [
    "#### _Circle Map (Objective 2)_ <a class=\"anchor\" id=\"section-2-5-4\"></a>\n",
    "\n",
    "With the logic devised in the previous section, I will create a function that draws the concentric circle map with markers that you can click on to reveal aggregates within the boundaries of the circle."
   ]
  },
  {
   "cell_type": "code",
   "execution_count": null,
   "metadata": {},
   "outputs": [],
   "source": [
    "def map_concentric_circles(number_of_circles, band_area, marker_adjustment):\n",
    "    circle_map = folium.Map(location=CENTRE_OF_LONDON, zoom_start=11)\n",
    "\n",
    "    print(f\"Drawing map for {number_of_circles} circles with Area {band_area}\")\n",
    "    print()\n",
    "\n",
    "    last_radius = 0\n",
    "    for i in range(1, number_of_circles+1):\n",
    "        radius = circle_radius_from_area(band_area*i) # Getting the radius of the next circle up.\n",
    "\n",
    "        # Using more trigonometry to position the pop-up marker.\n",
    "        marker_lat = CENTRE_OF_LONDON[0] + ((radius - marker_adjustment)/1000 / 111.32) * math.cos(math.radians(45))  # 1 degree of latitude is approx. 111.32 km\n",
    "        marker_lon = CENTRE_OF_LONDON[1] + ((radius - marker_adjustment)/1000 / (111.32 * math.cos(math.radians(CENTRE_OF_LONDON[0])))) * math.sin(math.radians(45))\n",
    "\n",
    "        # Creating the pop-up with count and custom label.\n",
    "        inside_band = (\n",
    "            (listings_df['distance_from_centre_km']*1000 >= last_radius) & \n",
    "            (listings_df['distance_from_centre_km']*1000 <= radius)\n",
    "            )\n",
    "        count = inside_band.sum()\n",
    "        average_price = listings_df[inside_band][\"price_per_bed\"].mean()\n",
    "        average_rating = listings_df[inside_band][\"review_scores_rating\"].mean()\n",
    "\n",
    "        label = f\"Band (m): {last_radius:.2f} - {radius:.2f}<br>\\\n",
    "                Listing Count: {count}<br>\\\n",
    "                Average Price: {average_price:.2f}<br>\\\n",
    "                Average Rating: {average_rating:.2f}\"\n",
    "        popup = folium.Popup(folium.IFrame(label), min_width=280, max_width=200, max_height=100)\n",
    "        print(label.replace(\"<br>\", \"\\t\").replace(\"\\\\\", \"\")) \n",
    "\n",
    "        folium.Circle(location=CENTRE_OF_LONDON, radius=radius, color='blue').add_to(circle_map) \n",
    "        folium.Marker([marker_lat, marker_lon], popup=popup).add_to(circle_map)\n",
    "\n",
    "        # Resetting last radius to be used in the next loop\n",
    "        last_radius = radius \n",
    "\n",
    "    return circle_map"
   ]
  },
  {
   "cell_type": "markdown",
   "metadata": {},
   "source": [
    "We can call the above function to produce the desired map."
   ]
  },
  {
   "cell_type": "markdown",
   "metadata": {},
   "source": [
    "#### _Generating Word Clouds (Objective 3)_ <a class=\"anchor\" id=\"section-2-5-5\"></a>\n",
    "\n",
    "In order to find some interesting differences between listings at the extremes of price and rating we need a function to produce a word cloud from a dataframe column."
   ]
  }
 ],
 "metadata": {
  "kernelspec": {
   "display_name": "base",
   "language": "python",
   "name": "python3"
  },
  "language_info": {
   "codemirror_mode": {
    "name": "ipython",
    "version": 3
   },
   "file_extension": ".py",
   "mimetype": "text/x-python",
   "name": "python",
   "nbconvert_exporter": "python",
   "pygments_lexer": "ipython3",
   "version": "3.11.4"
  },
  "orig_nbformat": 4
 },
 "nbformat": 4,
 "nbformat_minor": 2
}
