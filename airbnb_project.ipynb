{
 "cells": [
  {
   "cell_type": "markdown",
   "metadata": {},
   "source": [
    "# Data Analysis Project\n",
    "\n",
    "\n",
    "# _An Analysis of AirBnB Listings in London_"
   ]
  },
  {
   "cell_type": "markdown",
   "metadata": {},
   "source": [
    "### _Contents_\n",
    "\n",
    "- [Project Plan](#section-1)\n",
    "    - [The Data](#section-1-1)\n",
    "        - [Data Source](#section-1-1-1)\n",
    "        - [Data Content](#section-1-1-2)\n",
    "        - [Data Quality](#section-1-1-3)"
   ]
  },
  {
   "cell_type": "code",
   "execution_count": null,
   "metadata": {},
   "outputs": [],
   "source": []
  }
 ],
 "metadata": {
  "language_info": {
   "name": "python"
  },
  "orig_nbformat": 4
 },
 "nbformat": 4,
 "nbformat_minor": 2
}
